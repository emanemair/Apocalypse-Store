{
 "cells": [
  {
   "cell_type": "code",
   "execution_count": 1,
   "id": "67639eea",
   "metadata": {
    "execution": {
     "iopub.execute_input": "2023-09-02T11:45:42.657165Z",
     "iopub.status.busy": "2023-09-02T11:45:42.656639Z",
     "iopub.status.idle": "2023-09-02T11:45:43.062592Z",
     "shell.execute_reply": "2023-09-02T11:45:43.061162Z"
    },
    "papermill": {
     "duration": 0.419058,
     "end_time": "2023-09-02T11:45:43.065284",
     "exception": false,
     "start_time": "2023-09-02T11:45:42.646226",
     "status": "completed"
    },
    "tags": []
   },
   "outputs": [
    {
     "name": "stdout",
     "output_type": "stream",
     "text": [
      "/kaggle/input/apocolypse-store/customer_data.xlsx\n",
      "/kaggle/input/apocolypse-store/sale_data.xlsx\n",
      "/kaggle/input/apocolypse-store/store_data.xlsx\n"
     ]
    }
   ],
   "source": [
    "# This Python 3 environment comes with many helpful analytics libraries installed\n",
    "# It is defined by the kaggle/python Docker image: https://github.com/kaggle/docker-python\n",
    "# For example, here's several helpful packages to load\n",
    "\n",
    "import numpy as np # linear algebra\n",
    "import pandas as pd # data processing, CSV file I/O (e.g. pd.read_csv)\n",
    "\n",
    "# Input data files are available in the read-only \"../input/\" directory\n",
    "# For example, running this (by clicking run or pressing Shift+Enter) will list all files under the input directory\n",
    "\n",
    "import os\n",
    "for dirname, _, filenames in os.walk('/kaggle/input'):\n",
    "    for filename in filenames:\n",
    "        print(os.path.join(dirname, filename))\n",
    "\n",
    "# You can write up to 20GB to the current directory (/kaggle/working/) that gets preserved as output when you create a version using \"Save & Run All\" \n",
    "# You can also write temporary files to /kaggle/temp/, but they won't be saved outside of the current session"
   ]
  },
  {
   "cell_type": "code",
   "execution_count": 2,
   "id": "780bf8ca",
   "metadata": {
    "execution": {
     "iopub.execute_input": "2023-09-02T11:45:43.084011Z",
     "iopub.status.busy": "2023-09-02T11:45:43.083457Z",
     "iopub.status.idle": "2023-09-02T11:45:45.608099Z",
     "shell.execute_reply": "2023-09-02T11:45:45.607039Z"
    },
    "papermill": {
     "duration": 2.537301,
     "end_time": "2023-09-02T11:45:45.611003",
     "exception": false,
     "start_time": "2023-09-02T11:45:43.073702",
     "status": "completed"
    },
    "tags": []
   },
   "outputs": [],
   "source": [
    "import pandas as pd \n",
    "import numpy as np \n",
    "import matplotlib.pyplot as plt \n",
    "import seaborn as sns \n",
    "import plotly.express as px"
   ]
  },
  {
   "cell_type": "code",
   "execution_count": 3,
   "id": "a4e9f954",
   "metadata": {
    "execution": {
     "iopub.execute_input": "2023-09-02T11:45:45.630390Z",
     "iopub.status.busy": "2023-09-02T11:45:45.629691Z",
     "iopub.status.idle": "2023-09-02T11:45:46.069264Z",
     "shell.execute_reply": "2023-09-02T11:45:46.067961Z"
    },
    "papermill": {
     "duration": 0.452143,
     "end_time": "2023-09-02T11:45:46.071922",
     "exception": false,
     "start_time": "2023-09-02T11:45:45.619779",
     "status": "completed"
    },
    "tags": []
   },
   "outputs": [],
   "source": [
    "store_data = pd.DataFrame(pd.read_excel(\"/kaggle/input/apocolypse-store/store_data.xlsx\"))\n",
    "customer_data=pd.DataFrame(pd.read_excel(\"/kaggle/input/apocolypse-store/customer_data.xlsx\"))\n",
    "sale_data=pd.DataFrame(pd.read_excel(\"/kaggle/input/apocolypse-store/sale_data.xlsx\"))"
   ]
  },
  {
   "cell_type": "code",
   "execution_count": 4,
   "id": "f5b186b1",
   "metadata": {
    "execution": {
     "iopub.execute_input": "2023-09-02T11:45:46.090689Z",
     "iopub.status.busy": "2023-09-02T11:45:46.089918Z",
     "iopub.status.idle": "2023-09-02T11:45:46.114817Z",
     "shell.execute_reply": "2023-09-02T11:45:46.113850Z"
    },
    "papermill": {
     "duration": 0.037378,
     "end_time": "2023-09-02T11:45:46.117709",
     "exception": false,
     "start_time": "2023-09-02T11:45:46.080331",
     "status": "completed"
    },
    "tags": []
   },
   "outputs": [
    {
     "data": {
      "text/html": [
       "<div>\n",
       "<style scoped>\n",
       "    .dataframe tbody tr th:only-of-type {\n",
       "        vertical-align: middle;\n",
       "    }\n",
       "\n",
       "    .dataframe tbody tr th {\n",
       "        vertical-align: top;\n",
       "    }\n",
       "\n",
       "    .dataframe thead th {\n",
       "        text-align: right;\n",
       "    }\n",
       "</style>\n",
       "<table border=\"1\" class=\"dataframe\">\n",
       "  <thead>\n",
       "    <tr style=\"text-align: right;\">\n",
       "      <th></th>\n",
       "      <th>Product ID</th>\n",
       "      <th>Product Name</th>\n",
       "      <th>Price</th>\n",
       "      <th>Production Cost</th>\n",
       "    </tr>\n",
       "  </thead>\n",
       "  <tbody>\n",
       "    <tr>\n",
       "      <th>0</th>\n",
       "      <td>10001</td>\n",
       "      <td>Nylon Rope</td>\n",
       "      <td>30.99</td>\n",
       "      <td>13.67</td>\n",
       "    </tr>\n",
       "    <tr>\n",
       "      <th>1</th>\n",
       "      <td>10002</td>\n",
       "      <td>Waterproof Matches</td>\n",
       "      <td>7.99</td>\n",
       "      <td>2.89</td>\n",
       "    </tr>\n",
       "    <tr>\n",
       "      <th>2</th>\n",
       "      <td>10003</td>\n",
       "      <td>Stainless Steel Axe</td>\n",
       "      <td>45.50</td>\n",
       "      <td>32.45</td>\n",
       "    </tr>\n",
       "    <tr>\n",
       "      <th>3</th>\n",
       "      <td>10004</td>\n",
       "      <td>Backpack</td>\n",
       "      <td>39.99</td>\n",
       "      <td>26.92</td>\n",
       "    </tr>\n",
       "    <tr>\n",
       "      <th>4</th>\n",
       "      <td>10005</td>\n",
       "      <td>Multitool Survivial Knife</td>\n",
       "      <td>28.99</td>\n",
       "      <td>10.58</td>\n",
       "    </tr>\n",
       "    <tr>\n",
       "      <th>5</th>\n",
       "      <td>10006</td>\n",
       "      <td>Solar Battery Flashlight</td>\n",
       "      <td>26.49</td>\n",
       "      <td>13.41</td>\n",
       "    </tr>\n",
       "    <tr>\n",
       "      <th>6</th>\n",
       "      <td>10007</td>\n",
       "      <td>Weatherproof Jacket</td>\n",
       "      <td>79.99</td>\n",
       "      <td>30.59</td>\n",
       "    </tr>\n",
       "    <tr>\n",
       "      <th>7</th>\n",
       "      <td>10008</td>\n",
       "      <td>Duct Tape</td>\n",
       "      <td>6.25</td>\n",
       "      <td>4.87</td>\n",
       "    </tr>\n",
       "    <tr>\n",
       "      <th>8</th>\n",
       "      <td>10009</td>\n",
       "      <td>Water Purifier</td>\n",
       "      <td>30.25</td>\n",
       "      <td>17.93</td>\n",
       "    </tr>\n",
       "    <tr>\n",
       "      <th>9</th>\n",
       "      <td>10010</td>\n",
       "      <td>N95 Mask</td>\n",
       "      <td>2.75</td>\n",
       "      <td>1.01</td>\n",
       "    </tr>\n",
       "  </tbody>\n",
       "</table>\n",
       "</div>"
      ],
      "text/plain": [
       "   Product ID               Product Name  Price  Production Cost\n",
       "0       10001                 Nylon Rope  30.99            13.67\n",
       "1       10002         Waterproof Matches   7.99             2.89\n",
       "2       10003       Stainless Steel Axe   45.50            32.45\n",
       "3       10004                   Backpack  39.99            26.92\n",
       "4       10005  Multitool Survivial Knife  28.99            10.58\n",
       "5       10006   Solar Battery Flashlight  26.49            13.41\n",
       "6       10007        Weatherproof Jacket  79.99            30.59\n",
       "7       10008                  Duct Tape   6.25             4.87\n",
       "8       10009             Water Purifier  30.25            17.93\n",
       "9       10010                   N95 Mask   2.75             1.01"
      ]
     },
     "execution_count": 4,
     "metadata": {},
     "output_type": "execute_result"
    }
   ],
   "source": [
    "store_data.head(10)"
   ]
  },
  {
   "cell_type": "code",
   "execution_count": 5,
   "id": "df9c4b32",
   "metadata": {
    "execution": {
     "iopub.execute_input": "2023-09-02T11:45:46.136761Z",
     "iopub.status.busy": "2023-09-02T11:45:46.135980Z",
     "iopub.status.idle": "2023-09-02T11:45:46.143160Z",
     "shell.execute_reply": "2023-09-02T11:45:46.142009Z"
    },
    "papermill": {
     "duration": 0.01921,
     "end_time": "2023-09-02T11:45:46.145480",
     "exception": false,
     "start_time": "2023-09-02T11:45:46.126270",
     "status": "completed"
    },
    "tags": []
   },
   "outputs": [
    {
     "data": {
      "text/plain": [
       "(10, 4)"
      ]
     },
     "execution_count": 5,
     "metadata": {},
     "output_type": "execute_result"
    }
   ],
   "source": [
    "store_data.shape"
   ]
  },
  {
   "cell_type": "code",
   "execution_count": 6,
   "id": "75c6d19d",
   "metadata": {
    "execution": {
     "iopub.execute_input": "2023-09-02T11:45:46.164429Z",
     "iopub.status.busy": "2023-09-02T11:45:46.164023Z",
     "iopub.status.idle": "2023-09-02T11:45:46.171443Z",
     "shell.execute_reply": "2023-09-02T11:45:46.170314Z"
    },
    "papermill": {
     "duration": 0.019448,
     "end_time": "2023-09-02T11:45:46.173773",
     "exception": false,
     "start_time": "2023-09-02T11:45:46.154325",
     "status": "completed"
    },
    "tags": []
   },
   "outputs": [
    {
     "data": {
      "text/plain": [
       "Index(['Product ID', 'Product Name', 'Price', 'Production Cost'], dtype='object')"
      ]
     },
     "execution_count": 6,
     "metadata": {},
     "output_type": "execute_result"
    }
   ],
   "source": [
    "store_data.columns"
   ]
  },
  {
   "cell_type": "code",
   "execution_count": 7,
   "id": "20c5c1e5",
   "metadata": {
    "execution": {
     "iopub.execute_input": "2023-09-02T11:45:46.192215Z",
     "iopub.status.busy": "2023-09-02T11:45:46.191796Z",
     "iopub.status.idle": "2023-09-02T11:45:46.201079Z",
     "shell.execute_reply": "2023-09-02T11:45:46.200007Z"
    },
    "papermill": {
     "duration": 0.021294,
     "end_time": "2023-09-02T11:45:46.203439",
     "exception": false,
     "start_time": "2023-09-02T11:45:46.182145",
     "status": "completed"
    },
    "tags": []
   },
   "outputs": [
    {
     "data": {
      "text/plain": [
       "Product ID         0\n",
       "Product Name       0\n",
       "Price              0\n",
       "Production Cost    0\n",
       "dtype: int64"
      ]
     },
     "execution_count": 7,
     "metadata": {},
     "output_type": "execute_result"
    }
   ],
   "source": [
    "store_data.isna().sum()"
   ]
  },
  {
   "cell_type": "code",
   "execution_count": 8,
   "id": "e744929b",
   "metadata": {
    "execution": {
     "iopub.execute_input": "2023-09-02T11:45:46.222427Z",
     "iopub.status.busy": "2023-09-02T11:45:46.222022Z",
     "iopub.status.idle": "2023-09-02T11:45:48.205187Z",
     "shell.execute_reply": "2023-09-02T11:45:48.204023Z"
    },
    "papermill": {
     "duration": 1.995486,
     "end_time": "2023-09-02T11:45:48.207519",
     "exception": false,
     "start_time": "2023-09-02T11:45:46.212033",
     "status": "completed"
    },
    "tags": []
   },
   "outputs": [
    {
     "data": {
      "text/html": [
       "        <script type=\"text/javascript\">\n",
       "        window.PlotlyConfig = {MathJaxConfig: 'local'};\n",
       "        if (window.MathJax && window.MathJax.Hub && window.MathJax.Hub.Config) {window.MathJax.Hub.Config({SVG: {font: \"STIX-Web\"}});}\n",
       "        if (typeof require !== 'undefined') {\n",
       "        require.undef(\"plotly\");\n",
       "        requirejs.config({\n",
       "            paths: {\n",
       "                'plotly': ['https://cdn.plot.ly/plotly-2.24.1.min']\n",
       "            }\n",
       "        });\n",
       "        require(['plotly'], function(Plotly) {\n",
       "            window._Plotly = Plotly;\n",
       "        });\n",
       "        }\n",
       "        </script>\n",
       "        "
      ]
     },
     "metadata": {},
     "output_type": "display_data"
    },
    {
     "data": {
      "text/html": [
       "<div>                            <div id=\"b8165bef-beb8-4693-8430-c53e0e311bf7\" class=\"plotly-graph-div\" style=\"height:525px; width:100%;\"></div>            <script type=\"text/javascript\">                require([\"plotly\"], function(Plotly) {                    window.PLOTLYENV=window.PLOTLYENV || {};                                    if (document.getElementById(\"b8165bef-beb8-4693-8430-c53e0e311bf7\")) {                    Plotly.newPlot(                        \"b8165bef-beb8-4693-8430-c53e0e311bf7\",                        [{\"alignmentgroup\":\"True\",\"hovertemplate\":\"Product Name=%{x}\\u003cbr\\u003ePrice=%{y}\\u003cextra\\u003e\\u003c\\u002fextra\\u003e\",\"legendgroup\":\"\",\"marker\":{\"color\":\"#636efa\",\"pattern\":{\"shape\":\"\"}},\"name\":\"\",\"offsetgroup\":\"\",\"orientation\":\"v\",\"showlegend\":false,\"textposition\":\"auto\",\"x\":[\"Nylon Rope\",\"Waterproof Matches\",\"Stainless Steel Axe \",\"Backpack\",\"Multitool Survivial Knife\",\"Solar Battery Flashlight\",\"Weatherproof Jacket\",\"Duct Tape\",\"Water Purifier\",\"N95 Mask\"],\"xaxis\":\"x\",\"y\":[30.99,7.99,45.5,39.99,28.99,26.49,79.99,6.25,30.25,2.75],\"yaxis\":\"y\",\"type\":\"bar\"}],                        {\"template\":{\"data\":{\"histogram2dcontour\":[{\"type\":\"histogram2dcontour\",\"colorbar\":{\"outlinewidth\":0,\"ticks\":\"\"},\"colorscale\":[[0.0,\"#0d0887\"],[0.1111111111111111,\"#46039f\"],[0.2222222222222222,\"#7201a8\"],[0.3333333333333333,\"#9c179e\"],[0.4444444444444444,\"#bd3786\"],[0.5555555555555556,\"#d8576b\"],[0.6666666666666666,\"#ed7953\"],[0.7777777777777778,\"#fb9f3a\"],[0.8888888888888888,\"#fdca26\"],[1.0,\"#f0f921\"]]}],\"choropleth\":[{\"type\":\"choropleth\",\"colorbar\":{\"outlinewidth\":0,\"ticks\":\"\"}}],\"histogram2d\":[{\"type\":\"histogram2d\",\"colorbar\":{\"outlinewidth\":0,\"ticks\":\"\"},\"colorscale\":[[0.0,\"#0d0887\"],[0.1111111111111111,\"#46039f\"],[0.2222222222222222,\"#7201a8\"],[0.3333333333333333,\"#9c179e\"],[0.4444444444444444,\"#bd3786\"],[0.5555555555555556,\"#d8576b\"],[0.6666666666666666,\"#ed7953\"],[0.7777777777777778,\"#fb9f3a\"],[0.8888888888888888,\"#fdca26\"],[1.0,\"#f0f921\"]]}],\"heatmap\":[{\"type\":\"heatmap\",\"colorbar\":{\"outlinewidth\":0,\"ticks\":\"\"},\"colorscale\":[[0.0,\"#0d0887\"],[0.1111111111111111,\"#46039f\"],[0.2222222222222222,\"#7201a8\"],[0.3333333333333333,\"#9c179e\"],[0.4444444444444444,\"#bd3786\"],[0.5555555555555556,\"#d8576b\"],[0.6666666666666666,\"#ed7953\"],[0.7777777777777778,\"#fb9f3a\"],[0.8888888888888888,\"#fdca26\"],[1.0,\"#f0f921\"]]}],\"heatmapgl\":[{\"type\":\"heatmapgl\",\"colorbar\":{\"outlinewidth\":0,\"ticks\":\"\"},\"colorscale\":[[0.0,\"#0d0887\"],[0.1111111111111111,\"#46039f\"],[0.2222222222222222,\"#7201a8\"],[0.3333333333333333,\"#9c179e\"],[0.4444444444444444,\"#bd3786\"],[0.5555555555555556,\"#d8576b\"],[0.6666666666666666,\"#ed7953\"],[0.7777777777777778,\"#fb9f3a\"],[0.8888888888888888,\"#fdca26\"],[1.0,\"#f0f921\"]]}],\"contourcarpet\":[{\"type\":\"contourcarpet\",\"colorbar\":{\"outlinewidth\":0,\"ticks\":\"\"}}],\"contour\":[{\"type\":\"contour\",\"colorbar\":{\"outlinewidth\":0,\"ticks\":\"\"},\"colorscale\":[[0.0,\"#0d0887\"],[0.1111111111111111,\"#46039f\"],[0.2222222222222222,\"#7201a8\"],[0.3333333333333333,\"#9c179e\"],[0.4444444444444444,\"#bd3786\"],[0.5555555555555556,\"#d8576b\"],[0.6666666666666666,\"#ed7953\"],[0.7777777777777778,\"#fb9f3a\"],[0.8888888888888888,\"#fdca26\"],[1.0,\"#f0f921\"]]}],\"surface\":[{\"type\":\"surface\",\"colorbar\":{\"outlinewidth\":0,\"ticks\":\"\"},\"colorscale\":[[0.0,\"#0d0887\"],[0.1111111111111111,\"#46039f\"],[0.2222222222222222,\"#7201a8\"],[0.3333333333333333,\"#9c179e\"],[0.4444444444444444,\"#bd3786\"],[0.5555555555555556,\"#d8576b\"],[0.6666666666666666,\"#ed7953\"],[0.7777777777777778,\"#fb9f3a\"],[0.8888888888888888,\"#fdca26\"],[1.0,\"#f0f921\"]]}],\"mesh3d\":[{\"type\":\"mesh3d\",\"colorbar\":{\"outlinewidth\":0,\"ticks\":\"\"}}],\"scatter\":[{\"fillpattern\":{\"fillmode\":\"overlay\",\"size\":10,\"solidity\":0.2},\"type\":\"scatter\"}],\"parcoords\":[{\"type\":\"parcoords\",\"line\":{\"colorbar\":{\"outlinewidth\":0,\"ticks\":\"\"}}}],\"scatterpolargl\":[{\"type\":\"scatterpolargl\",\"marker\":{\"colorbar\":{\"outlinewidth\":0,\"ticks\":\"\"}}}],\"bar\":[{\"error_x\":{\"color\":\"#2a3f5f\"},\"error_y\":{\"color\":\"#2a3f5f\"},\"marker\":{\"line\":{\"color\":\"#E5ECF6\",\"width\":0.5},\"pattern\":{\"fillmode\":\"overlay\",\"size\":10,\"solidity\":0.2}},\"type\":\"bar\"}],\"scattergeo\":[{\"type\":\"scattergeo\",\"marker\":{\"colorbar\":{\"outlinewidth\":0,\"ticks\":\"\"}}}],\"scatterpolar\":[{\"type\":\"scatterpolar\",\"marker\":{\"colorbar\":{\"outlinewidth\":0,\"ticks\":\"\"}}}],\"histogram\":[{\"marker\":{\"pattern\":{\"fillmode\":\"overlay\",\"size\":10,\"solidity\":0.2}},\"type\":\"histogram\"}],\"scattergl\":[{\"type\":\"scattergl\",\"marker\":{\"colorbar\":{\"outlinewidth\":0,\"ticks\":\"\"}}}],\"scatter3d\":[{\"type\":\"scatter3d\",\"line\":{\"colorbar\":{\"outlinewidth\":0,\"ticks\":\"\"}},\"marker\":{\"colorbar\":{\"outlinewidth\":0,\"ticks\":\"\"}}}],\"scattermapbox\":[{\"type\":\"scattermapbox\",\"marker\":{\"colorbar\":{\"outlinewidth\":0,\"ticks\":\"\"}}}],\"scatterternary\":[{\"type\":\"scatterternary\",\"marker\":{\"colorbar\":{\"outlinewidth\":0,\"ticks\":\"\"}}}],\"scattercarpet\":[{\"type\":\"scattercarpet\",\"marker\":{\"colorbar\":{\"outlinewidth\":0,\"ticks\":\"\"}}}],\"carpet\":[{\"aaxis\":{\"endlinecolor\":\"#2a3f5f\",\"gridcolor\":\"white\",\"linecolor\":\"white\",\"minorgridcolor\":\"white\",\"startlinecolor\":\"#2a3f5f\"},\"baxis\":{\"endlinecolor\":\"#2a3f5f\",\"gridcolor\":\"white\",\"linecolor\":\"white\",\"minorgridcolor\":\"white\",\"startlinecolor\":\"#2a3f5f\"},\"type\":\"carpet\"}],\"table\":[{\"cells\":{\"fill\":{\"color\":\"#EBF0F8\"},\"line\":{\"color\":\"white\"}},\"header\":{\"fill\":{\"color\":\"#C8D4E3\"},\"line\":{\"color\":\"white\"}},\"type\":\"table\"}],\"barpolar\":[{\"marker\":{\"line\":{\"color\":\"#E5ECF6\",\"width\":0.5},\"pattern\":{\"fillmode\":\"overlay\",\"size\":10,\"solidity\":0.2}},\"type\":\"barpolar\"}],\"pie\":[{\"automargin\":true,\"type\":\"pie\"}]},\"layout\":{\"autotypenumbers\":\"strict\",\"colorway\":[\"#636efa\",\"#EF553B\",\"#00cc96\",\"#ab63fa\",\"#FFA15A\",\"#19d3f3\",\"#FF6692\",\"#B6E880\",\"#FF97FF\",\"#FECB52\"],\"font\":{\"color\":\"#2a3f5f\"},\"hovermode\":\"closest\",\"hoverlabel\":{\"align\":\"left\"},\"paper_bgcolor\":\"white\",\"plot_bgcolor\":\"#E5ECF6\",\"polar\":{\"bgcolor\":\"#E5ECF6\",\"angularaxis\":{\"gridcolor\":\"white\",\"linecolor\":\"white\",\"ticks\":\"\"},\"radialaxis\":{\"gridcolor\":\"white\",\"linecolor\":\"white\",\"ticks\":\"\"}},\"ternary\":{\"bgcolor\":\"#E5ECF6\",\"aaxis\":{\"gridcolor\":\"white\",\"linecolor\":\"white\",\"ticks\":\"\"},\"baxis\":{\"gridcolor\":\"white\",\"linecolor\":\"white\",\"ticks\":\"\"},\"caxis\":{\"gridcolor\":\"white\",\"linecolor\":\"white\",\"ticks\":\"\"}},\"coloraxis\":{\"colorbar\":{\"outlinewidth\":0,\"ticks\":\"\"}},\"colorscale\":{\"sequential\":[[0.0,\"#0d0887\"],[0.1111111111111111,\"#46039f\"],[0.2222222222222222,\"#7201a8\"],[0.3333333333333333,\"#9c179e\"],[0.4444444444444444,\"#bd3786\"],[0.5555555555555556,\"#d8576b\"],[0.6666666666666666,\"#ed7953\"],[0.7777777777777778,\"#fb9f3a\"],[0.8888888888888888,\"#fdca26\"],[1.0,\"#f0f921\"]],\"sequentialminus\":[[0.0,\"#0d0887\"],[0.1111111111111111,\"#46039f\"],[0.2222222222222222,\"#7201a8\"],[0.3333333333333333,\"#9c179e\"],[0.4444444444444444,\"#bd3786\"],[0.5555555555555556,\"#d8576b\"],[0.6666666666666666,\"#ed7953\"],[0.7777777777777778,\"#fb9f3a\"],[0.8888888888888888,\"#fdca26\"],[1.0,\"#f0f921\"]],\"diverging\":[[0,\"#8e0152\"],[0.1,\"#c51b7d\"],[0.2,\"#de77ae\"],[0.3,\"#f1b6da\"],[0.4,\"#fde0ef\"],[0.5,\"#f7f7f7\"],[0.6,\"#e6f5d0\"],[0.7,\"#b8e186\"],[0.8,\"#7fbc41\"],[0.9,\"#4d9221\"],[1,\"#276419\"]]},\"xaxis\":{\"gridcolor\":\"white\",\"linecolor\":\"white\",\"ticks\":\"\",\"title\":{\"standoff\":15},\"zerolinecolor\":\"white\",\"automargin\":true,\"zerolinewidth\":2},\"yaxis\":{\"gridcolor\":\"white\",\"linecolor\":\"white\",\"ticks\":\"\",\"title\":{\"standoff\":15},\"zerolinecolor\":\"white\",\"automargin\":true,\"zerolinewidth\":2},\"scene\":{\"xaxis\":{\"backgroundcolor\":\"#E5ECF6\",\"gridcolor\":\"white\",\"linecolor\":\"white\",\"showbackground\":true,\"ticks\":\"\",\"zerolinecolor\":\"white\",\"gridwidth\":2},\"yaxis\":{\"backgroundcolor\":\"#E5ECF6\",\"gridcolor\":\"white\",\"linecolor\":\"white\",\"showbackground\":true,\"ticks\":\"\",\"zerolinecolor\":\"white\",\"gridwidth\":2},\"zaxis\":{\"backgroundcolor\":\"#E5ECF6\",\"gridcolor\":\"white\",\"linecolor\":\"white\",\"showbackground\":true,\"ticks\":\"\",\"zerolinecolor\":\"white\",\"gridwidth\":2}},\"shapedefaults\":{\"line\":{\"color\":\"#2a3f5f\"}},\"annotationdefaults\":{\"arrowcolor\":\"#2a3f5f\",\"arrowhead\":0,\"arrowwidth\":1},\"geo\":{\"bgcolor\":\"white\",\"landcolor\":\"#E5ECF6\",\"subunitcolor\":\"white\",\"showland\":true,\"showlakes\":true,\"lakecolor\":\"white\"},\"title\":{\"x\":0.05},\"mapbox\":{\"style\":\"light\"}}},\"xaxis\":{\"anchor\":\"y\",\"domain\":[0.0,1.0],\"title\":{\"text\":\"Product Name\"}},\"yaxis\":{\"anchor\":\"x\",\"domain\":[0.0,1.0],\"title\":{\"text\":\"Price\"}},\"legend\":{\"tracegroupgap\":0},\"title\":{\"text\":\"Products Price\"},\"barmode\":\"relative\"},                        {\"responsive\": true}                    ).then(function(){\n",
       "                            \n",
       "var gd = document.getElementById('b8165bef-beb8-4693-8430-c53e0e311bf7');\n",
       "var x = new MutationObserver(function (mutations, observer) {{\n",
       "        var display = window.getComputedStyle(gd).display;\n",
       "        if (!display || display === 'none') {{\n",
       "            console.log([gd, 'removed!']);\n",
       "            Plotly.purge(gd);\n",
       "            observer.disconnect();\n",
       "        }}\n",
       "}});\n",
       "\n",
       "// Listen for the removal of the full notebook cells\n",
       "var notebookContainer = gd.closest('#notebook-container');\n",
       "if (notebookContainer) {{\n",
       "    x.observe(notebookContainer, {childList: true});\n",
       "}}\n",
       "\n",
       "// Listen for the clearing of the current output cell\n",
       "var outputEl = gd.closest('.output');\n",
       "if (outputEl) {{\n",
       "    x.observe(outputEl, {childList: true});\n",
       "}}\n",
       "\n",
       "                        })                };                });            </script>        </div>"
      ]
     },
     "metadata": {},
     "output_type": "display_data"
    }
   ],
   "source": [
    "product_fig = px.bar(store_data, x=\"Product Name\" , y=\"Price\" ,title=\"Products Price\"  )\n",
    "product_fig.show()\n"
   ]
  },
  {
   "cell_type": "code",
   "execution_count": 9,
   "id": "6ba1e395",
   "metadata": {
    "execution": {
     "iopub.execute_input": "2023-09-02T11:45:48.229315Z",
     "iopub.status.busy": "2023-09-02T11:45:48.227875Z",
     "iopub.status.idle": "2023-09-02T11:45:48.286685Z",
     "shell.execute_reply": "2023-09-02T11:45:48.285297Z"
    },
    "papermill": {
     "duration": 0.072723,
     "end_time": "2023-09-02T11:45:48.289254",
     "exception": false,
     "start_time": "2023-09-02T11:45:48.216531",
     "status": "completed"
    },
    "tags": []
   },
   "outputs": [
    {
     "data": {
      "text/html": [
       "<div>                            <div id=\"1c1400d1-bf82-42e1-ae4f-0068d4ba61e4\" class=\"plotly-graph-div\" style=\"height:525px; width:100%;\"></div>            <script type=\"text/javascript\">                require([\"plotly\"], function(Plotly) {                    window.PLOTLYENV=window.PLOTLYENV || {};                                    if (document.getElementById(\"1c1400d1-bf82-42e1-ae4f-0068d4ba61e4\")) {                    Plotly.newPlot(                        \"1c1400d1-bf82-42e1-ae4f-0068d4ba61e4\",                        [{\"alignmentgroup\":\"True\",\"hovertemplate\":\"Product Name=%{x}\\u003cbr\\u003eProduction Cost=%{y}\\u003cextra\\u003e\\u003c\\u002fextra\\u003e\",\"legendgroup\":\"\",\"marker\":{\"color\":\"#636efa\",\"pattern\":{\"shape\":\"\"}},\"name\":\"\",\"offsetgroup\":\"\",\"orientation\":\"v\",\"showlegend\":false,\"textposition\":\"auto\",\"x\":[\"Nylon Rope\",\"Waterproof Matches\",\"Stainless Steel Axe \",\"Backpack\",\"Multitool Survivial Knife\",\"Solar Battery Flashlight\",\"Weatherproof Jacket\",\"Duct Tape\",\"Water Purifier\",\"N95 Mask\"],\"xaxis\":\"x\",\"y\":[13.67,2.89,32.45,26.92,10.58,13.41,30.59,4.87,17.93,1.01],\"yaxis\":\"y\",\"type\":\"bar\"}],                        {\"template\":{\"data\":{\"histogram2dcontour\":[{\"type\":\"histogram2dcontour\",\"colorbar\":{\"outlinewidth\":0,\"ticks\":\"\"},\"colorscale\":[[0.0,\"#0d0887\"],[0.1111111111111111,\"#46039f\"],[0.2222222222222222,\"#7201a8\"],[0.3333333333333333,\"#9c179e\"],[0.4444444444444444,\"#bd3786\"],[0.5555555555555556,\"#d8576b\"],[0.6666666666666666,\"#ed7953\"],[0.7777777777777778,\"#fb9f3a\"],[0.8888888888888888,\"#fdca26\"],[1.0,\"#f0f921\"]]}],\"choropleth\":[{\"type\":\"choropleth\",\"colorbar\":{\"outlinewidth\":0,\"ticks\":\"\"}}],\"histogram2d\":[{\"type\":\"histogram2d\",\"colorbar\":{\"outlinewidth\":0,\"ticks\":\"\"},\"colorscale\":[[0.0,\"#0d0887\"],[0.1111111111111111,\"#46039f\"],[0.2222222222222222,\"#7201a8\"],[0.3333333333333333,\"#9c179e\"],[0.4444444444444444,\"#bd3786\"],[0.5555555555555556,\"#d8576b\"],[0.6666666666666666,\"#ed7953\"],[0.7777777777777778,\"#fb9f3a\"],[0.8888888888888888,\"#fdca26\"],[1.0,\"#f0f921\"]]}],\"heatmap\":[{\"type\":\"heatmap\",\"colorbar\":{\"outlinewidth\":0,\"ticks\":\"\"},\"colorscale\":[[0.0,\"#0d0887\"],[0.1111111111111111,\"#46039f\"],[0.2222222222222222,\"#7201a8\"],[0.3333333333333333,\"#9c179e\"],[0.4444444444444444,\"#bd3786\"],[0.5555555555555556,\"#d8576b\"],[0.6666666666666666,\"#ed7953\"],[0.7777777777777778,\"#fb9f3a\"],[0.8888888888888888,\"#fdca26\"],[1.0,\"#f0f921\"]]}],\"heatmapgl\":[{\"type\":\"heatmapgl\",\"colorbar\":{\"outlinewidth\":0,\"ticks\":\"\"},\"colorscale\":[[0.0,\"#0d0887\"],[0.1111111111111111,\"#46039f\"],[0.2222222222222222,\"#7201a8\"],[0.3333333333333333,\"#9c179e\"],[0.4444444444444444,\"#bd3786\"],[0.5555555555555556,\"#d8576b\"],[0.6666666666666666,\"#ed7953\"],[0.7777777777777778,\"#fb9f3a\"],[0.8888888888888888,\"#fdca26\"],[1.0,\"#f0f921\"]]}],\"contourcarpet\":[{\"type\":\"contourcarpet\",\"colorbar\":{\"outlinewidth\":0,\"ticks\":\"\"}}],\"contour\":[{\"type\":\"contour\",\"colorbar\":{\"outlinewidth\":0,\"ticks\":\"\"},\"colorscale\":[[0.0,\"#0d0887\"],[0.1111111111111111,\"#46039f\"],[0.2222222222222222,\"#7201a8\"],[0.3333333333333333,\"#9c179e\"],[0.4444444444444444,\"#bd3786\"],[0.5555555555555556,\"#d8576b\"],[0.6666666666666666,\"#ed7953\"],[0.7777777777777778,\"#fb9f3a\"],[0.8888888888888888,\"#fdca26\"],[1.0,\"#f0f921\"]]}],\"surface\":[{\"type\":\"surface\",\"colorbar\":{\"outlinewidth\":0,\"ticks\":\"\"},\"colorscale\":[[0.0,\"#0d0887\"],[0.1111111111111111,\"#46039f\"],[0.2222222222222222,\"#7201a8\"],[0.3333333333333333,\"#9c179e\"],[0.4444444444444444,\"#bd3786\"],[0.5555555555555556,\"#d8576b\"],[0.6666666666666666,\"#ed7953\"],[0.7777777777777778,\"#fb9f3a\"],[0.8888888888888888,\"#fdca26\"],[1.0,\"#f0f921\"]]}],\"mesh3d\":[{\"type\":\"mesh3d\",\"colorbar\":{\"outlinewidth\":0,\"ticks\":\"\"}}],\"scatter\":[{\"fillpattern\":{\"fillmode\":\"overlay\",\"size\":10,\"solidity\":0.2},\"type\":\"scatter\"}],\"parcoords\":[{\"type\":\"parcoords\",\"line\":{\"colorbar\":{\"outlinewidth\":0,\"ticks\":\"\"}}}],\"scatterpolargl\":[{\"type\":\"scatterpolargl\",\"marker\":{\"colorbar\":{\"outlinewidth\":0,\"ticks\":\"\"}}}],\"bar\":[{\"error_x\":{\"color\":\"#2a3f5f\"},\"error_y\":{\"color\":\"#2a3f5f\"},\"marker\":{\"line\":{\"color\":\"#E5ECF6\",\"width\":0.5},\"pattern\":{\"fillmode\":\"overlay\",\"size\":10,\"solidity\":0.2}},\"type\":\"bar\"}],\"scattergeo\":[{\"type\":\"scattergeo\",\"marker\":{\"colorbar\":{\"outlinewidth\":0,\"ticks\":\"\"}}}],\"scatterpolar\":[{\"type\":\"scatterpolar\",\"marker\":{\"colorbar\":{\"outlinewidth\":0,\"ticks\":\"\"}}}],\"histogram\":[{\"marker\":{\"pattern\":{\"fillmode\":\"overlay\",\"size\":10,\"solidity\":0.2}},\"type\":\"histogram\"}],\"scattergl\":[{\"type\":\"scattergl\",\"marker\":{\"colorbar\":{\"outlinewidth\":0,\"ticks\":\"\"}}}],\"scatter3d\":[{\"type\":\"scatter3d\",\"line\":{\"colorbar\":{\"outlinewidth\":0,\"ticks\":\"\"}},\"marker\":{\"colorbar\":{\"outlinewidth\":0,\"ticks\":\"\"}}}],\"scattermapbox\":[{\"type\":\"scattermapbox\",\"marker\":{\"colorbar\":{\"outlinewidth\":0,\"ticks\":\"\"}}}],\"scatterternary\":[{\"type\":\"scatterternary\",\"marker\":{\"colorbar\":{\"outlinewidth\":0,\"ticks\":\"\"}}}],\"scattercarpet\":[{\"type\":\"scattercarpet\",\"marker\":{\"colorbar\":{\"outlinewidth\":0,\"ticks\":\"\"}}}],\"carpet\":[{\"aaxis\":{\"endlinecolor\":\"#2a3f5f\",\"gridcolor\":\"white\",\"linecolor\":\"white\",\"minorgridcolor\":\"white\",\"startlinecolor\":\"#2a3f5f\"},\"baxis\":{\"endlinecolor\":\"#2a3f5f\",\"gridcolor\":\"white\",\"linecolor\":\"white\",\"minorgridcolor\":\"white\",\"startlinecolor\":\"#2a3f5f\"},\"type\":\"carpet\"}],\"table\":[{\"cells\":{\"fill\":{\"color\":\"#EBF0F8\"},\"line\":{\"color\":\"white\"}},\"header\":{\"fill\":{\"color\":\"#C8D4E3\"},\"line\":{\"color\":\"white\"}},\"type\":\"table\"}],\"barpolar\":[{\"marker\":{\"line\":{\"color\":\"#E5ECF6\",\"width\":0.5},\"pattern\":{\"fillmode\":\"overlay\",\"size\":10,\"solidity\":0.2}},\"type\":\"barpolar\"}],\"pie\":[{\"automargin\":true,\"type\":\"pie\"}]},\"layout\":{\"autotypenumbers\":\"strict\",\"colorway\":[\"#636efa\",\"#EF553B\",\"#00cc96\",\"#ab63fa\",\"#FFA15A\",\"#19d3f3\",\"#FF6692\",\"#B6E880\",\"#FF97FF\",\"#FECB52\"],\"font\":{\"color\":\"#2a3f5f\"},\"hovermode\":\"closest\",\"hoverlabel\":{\"align\":\"left\"},\"paper_bgcolor\":\"white\",\"plot_bgcolor\":\"#E5ECF6\",\"polar\":{\"bgcolor\":\"#E5ECF6\",\"angularaxis\":{\"gridcolor\":\"white\",\"linecolor\":\"white\",\"ticks\":\"\"},\"radialaxis\":{\"gridcolor\":\"white\",\"linecolor\":\"white\",\"ticks\":\"\"}},\"ternary\":{\"bgcolor\":\"#E5ECF6\",\"aaxis\":{\"gridcolor\":\"white\",\"linecolor\":\"white\",\"ticks\":\"\"},\"baxis\":{\"gridcolor\":\"white\",\"linecolor\":\"white\",\"ticks\":\"\"},\"caxis\":{\"gridcolor\":\"white\",\"linecolor\":\"white\",\"ticks\":\"\"}},\"coloraxis\":{\"colorbar\":{\"outlinewidth\":0,\"ticks\":\"\"}},\"colorscale\":{\"sequential\":[[0.0,\"#0d0887\"],[0.1111111111111111,\"#46039f\"],[0.2222222222222222,\"#7201a8\"],[0.3333333333333333,\"#9c179e\"],[0.4444444444444444,\"#bd3786\"],[0.5555555555555556,\"#d8576b\"],[0.6666666666666666,\"#ed7953\"],[0.7777777777777778,\"#fb9f3a\"],[0.8888888888888888,\"#fdca26\"],[1.0,\"#f0f921\"]],\"sequentialminus\":[[0.0,\"#0d0887\"],[0.1111111111111111,\"#46039f\"],[0.2222222222222222,\"#7201a8\"],[0.3333333333333333,\"#9c179e\"],[0.4444444444444444,\"#bd3786\"],[0.5555555555555556,\"#d8576b\"],[0.6666666666666666,\"#ed7953\"],[0.7777777777777778,\"#fb9f3a\"],[0.8888888888888888,\"#fdca26\"],[1.0,\"#f0f921\"]],\"diverging\":[[0,\"#8e0152\"],[0.1,\"#c51b7d\"],[0.2,\"#de77ae\"],[0.3,\"#f1b6da\"],[0.4,\"#fde0ef\"],[0.5,\"#f7f7f7\"],[0.6,\"#e6f5d0\"],[0.7,\"#b8e186\"],[0.8,\"#7fbc41\"],[0.9,\"#4d9221\"],[1,\"#276419\"]]},\"xaxis\":{\"gridcolor\":\"white\",\"linecolor\":\"white\",\"ticks\":\"\",\"title\":{\"standoff\":15},\"zerolinecolor\":\"white\",\"automargin\":true,\"zerolinewidth\":2},\"yaxis\":{\"gridcolor\":\"white\",\"linecolor\":\"white\",\"ticks\":\"\",\"title\":{\"standoff\":15},\"zerolinecolor\":\"white\",\"automargin\":true,\"zerolinewidth\":2},\"scene\":{\"xaxis\":{\"backgroundcolor\":\"#E5ECF6\",\"gridcolor\":\"white\",\"linecolor\":\"white\",\"showbackground\":true,\"ticks\":\"\",\"zerolinecolor\":\"white\",\"gridwidth\":2},\"yaxis\":{\"backgroundcolor\":\"#E5ECF6\",\"gridcolor\":\"white\",\"linecolor\":\"white\",\"showbackground\":true,\"ticks\":\"\",\"zerolinecolor\":\"white\",\"gridwidth\":2},\"zaxis\":{\"backgroundcolor\":\"#E5ECF6\",\"gridcolor\":\"white\",\"linecolor\":\"white\",\"showbackground\":true,\"ticks\":\"\",\"zerolinecolor\":\"white\",\"gridwidth\":2}},\"shapedefaults\":{\"line\":{\"color\":\"#2a3f5f\"}},\"annotationdefaults\":{\"arrowcolor\":\"#2a3f5f\",\"arrowhead\":0,\"arrowwidth\":1},\"geo\":{\"bgcolor\":\"white\",\"landcolor\":\"#E5ECF6\",\"subunitcolor\":\"white\",\"showland\":true,\"showlakes\":true,\"lakecolor\":\"white\"},\"title\":{\"x\":0.05},\"mapbox\":{\"style\":\"light\"}}},\"xaxis\":{\"anchor\":\"y\",\"domain\":[0.0,1.0],\"title\":{\"text\":\"Product Name\"}},\"yaxis\":{\"anchor\":\"x\",\"domain\":[0.0,1.0],\"title\":{\"text\":\"Production Cost\"}},\"legend\":{\"tracegroupgap\":0},\"title\":{\"text\":\"Product Production Cost\"},\"barmode\":\"relative\"},                        {\"responsive\": true}                    ).then(function(){\n",
       "                            \n",
       "var gd = document.getElementById('1c1400d1-bf82-42e1-ae4f-0068d4ba61e4');\n",
       "var x = new MutationObserver(function (mutations, observer) {{\n",
       "        var display = window.getComputedStyle(gd).display;\n",
       "        if (!display || display === 'none') {{\n",
       "            console.log([gd, 'removed!']);\n",
       "            Plotly.purge(gd);\n",
       "            observer.disconnect();\n",
       "        }}\n",
       "}});\n",
       "\n",
       "// Listen for the removal of the full notebook cells\n",
       "var notebookContainer = gd.closest('#notebook-container');\n",
       "if (notebookContainer) {{\n",
       "    x.observe(notebookContainer, {childList: true});\n",
       "}}\n",
       "\n",
       "// Listen for the clearing of the current output cell\n",
       "var outputEl = gd.closest('.output');\n",
       "if (outputEl) {{\n",
       "    x.observe(outputEl, {childList: true});\n",
       "}}\n",
       "\n",
       "                        })                };                });            </script>        </div>"
      ]
     },
     "metadata": {},
     "output_type": "display_data"
    }
   ],
   "source": [
    "production_cost_fig = px.bar(store_data , x=\"Product Name\" , y=\"Production Cost\" , title=\"Product Production Cost\")\n",
    "production_cost_fig.show()"
   ]
  },
  {
   "cell_type": "code",
   "execution_count": 10,
   "id": "87ade82b",
   "metadata": {
    "execution": {
     "iopub.execute_input": "2023-09-02T11:45:48.309576Z",
     "iopub.status.busy": "2023-09-02T11:45:48.308899Z",
     "iopub.status.idle": "2023-09-02T11:45:48.481809Z",
     "shell.execute_reply": "2023-09-02T11:45:48.480372Z"
    },
    "papermill": {
     "duration": 0.185866,
     "end_time": "2023-09-02T11:45:48.484342",
     "exception": false,
     "start_time": "2023-09-02T11:45:48.298476",
     "status": "completed"
    },
    "tags": []
   },
   "outputs": [
    {
     "data": {
      "text/html": [
       "<div>                            <div id=\"a5f200ab-5f2c-4a8f-bdf2-5183d07f3fd4\" class=\"plotly-graph-div\" style=\"height:525px; width:100%;\"></div>            <script type=\"text/javascript\">                require([\"plotly\"], function(Plotly) {                    window.PLOTLYENV=window.PLOTLYENV || {};                                    if (document.getElementById(\"a5f200ab-5f2c-4a8f-bdf2-5183d07f3fd4\")) {                    Plotly.newPlot(                        \"a5f200ab-5f2c-4a8f-bdf2-5183d07f3fd4\",                        [{\"customdata\":[[\"Nylon Rope\"]],\"hovertemplate\":\"Product Name=%{customdata[0]}\\u003cbr\\u003eProduction Cost=%{x}\\u003cbr\\u003ePrice=%{marker.size}\\u003cextra\\u003e\\u003c\\u002fextra\\u003e\",\"legendgroup\":\"Nylon Rope\",\"marker\":{\"color\":\"#636efa\",\"size\":[30.99],\"sizemode\":\"area\",\"sizeref\":0.19997499999999999,\"symbol\":\"circle\"},\"mode\":\"markers\",\"name\":\"Nylon Rope\",\"orientation\":\"v\",\"showlegend\":true,\"x\":[13.67],\"xaxis\":\"x\",\"y\":[30.99],\"yaxis\":\"y\",\"type\":\"scatter\"},{\"customdata\":[[\"Waterproof Matches\"]],\"hovertemplate\":\"Product Name=%{customdata[0]}\\u003cbr\\u003eProduction Cost=%{x}\\u003cbr\\u003ePrice=%{marker.size}\\u003cextra\\u003e\\u003c\\u002fextra\\u003e\",\"legendgroup\":\"Waterproof Matches\",\"marker\":{\"color\":\"#EF553B\",\"size\":[7.99],\"sizemode\":\"area\",\"sizeref\":0.19997499999999999,\"symbol\":\"circle\"},\"mode\":\"markers\",\"name\":\"Waterproof Matches\",\"orientation\":\"v\",\"showlegend\":true,\"x\":[2.89],\"xaxis\":\"x\",\"y\":[7.99],\"yaxis\":\"y\",\"type\":\"scatter\"},{\"customdata\":[[\"Stainless Steel Axe \"]],\"hovertemplate\":\"Product Name=%{customdata[0]}\\u003cbr\\u003eProduction Cost=%{x}\\u003cbr\\u003ePrice=%{marker.size}\\u003cextra\\u003e\\u003c\\u002fextra\\u003e\",\"legendgroup\":\"Stainless Steel Axe \",\"marker\":{\"color\":\"#00cc96\",\"size\":[45.5],\"sizemode\":\"area\",\"sizeref\":0.19997499999999999,\"symbol\":\"circle\"},\"mode\":\"markers\",\"name\":\"Stainless Steel Axe \",\"orientation\":\"v\",\"showlegend\":true,\"x\":[32.45],\"xaxis\":\"x\",\"y\":[45.5],\"yaxis\":\"y\",\"type\":\"scatter\"},{\"customdata\":[[\"Backpack\"]],\"hovertemplate\":\"Product Name=%{customdata[0]}\\u003cbr\\u003eProduction Cost=%{x}\\u003cbr\\u003ePrice=%{marker.size}\\u003cextra\\u003e\\u003c\\u002fextra\\u003e\",\"legendgroup\":\"Backpack\",\"marker\":{\"color\":\"#ab63fa\",\"size\":[39.99],\"sizemode\":\"area\",\"sizeref\":0.19997499999999999,\"symbol\":\"circle\"},\"mode\":\"markers\",\"name\":\"Backpack\",\"orientation\":\"v\",\"showlegend\":true,\"x\":[26.92],\"xaxis\":\"x\",\"y\":[39.99],\"yaxis\":\"y\",\"type\":\"scatter\"},{\"customdata\":[[\"Multitool Survivial Knife\"]],\"hovertemplate\":\"Product Name=%{customdata[0]}\\u003cbr\\u003eProduction Cost=%{x}\\u003cbr\\u003ePrice=%{marker.size}\\u003cextra\\u003e\\u003c\\u002fextra\\u003e\",\"legendgroup\":\"Multitool Survivial Knife\",\"marker\":{\"color\":\"#FFA15A\",\"size\":[28.99],\"sizemode\":\"area\",\"sizeref\":0.19997499999999999,\"symbol\":\"circle\"},\"mode\":\"markers\",\"name\":\"Multitool Survivial Knife\",\"orientation\":\"v\",\"showlegend\":true,\"x\":[10.58],\"xaxis\":\"x\",\"y\":[28.99],\"yaxis\":\"y\",\"type\":\"scatter\"},{\"customdata\":[[\"Solar Battery Flashlight\"]],\"hovertemplate\":\"Product Name=%{customdata[0]}\\u003cbr\\u003eProduction Cost=%{x}\\u003cbr\\u003ePrice=%{marker.size}\\u003cextra\\u003e\\u003c\\u002fextra\\u003e\",\"legendgroup\":\"Solar Battery Flashlight\",\"marker\":{\"color\":\"#19d3f3\",\"size\":[26.49],\"sizemode\":\"area\",\"sizeref\":0.19997499999999999,\"symbol\":\"circle\"},\"mode\":\"markers\",\"name\":\"Solar Battery Flashlight\",\"orientation\":\"v\",\"showlegend\":true,\"x\":[13.41],\"xaxis\":\"x\",\"y\":[26.49],\"yaxis\":\"y\",\"type\":\"scatter\"},{\"customdata\":[[\"Weatherproof Jacket\"]],\"hovertemplate\":\"Product Name=%{customdata[0]}\\u003cbr\\u003eProduction Cost=%{x}\\u003cbr\\u003ePrice=%{marker.size}\\u003cextra\\u003e\\u003c\\u002fextra\\u003e\",\"legendgroup\":\"Weatherproof Jacket\",\"marker\":{\"color\":\"#FF6692\",\"size\":[79.99],\"sizemode\":\"area\",\"sizeref\":0.19997499999999999,\"symbol\":\"circle\"},\"mode\":\"markers\",\"name\":\"Weatherproof Jacket\",\"orientation\":\"v\",\"showlegend\":true,\"x\":[30.59],\"xaxis\":\"x\",\"y\":[79.99],\"yaxis\":\"y\",\"type\":\"scatter\"},{\"customdata\":[[\"Duct Tape\"]],\"hovertemplate\":\"Product Name=%{customdata[0]}\\u003cbr\\u003eProduction Cost=%{x}\\u003cbr\\u003ePrice=%{marker.size}\\u003cextra\\u003e\\u003c\\u002fextra\\u003e\",\"legendgroup\":\"Duct Tape\",\"marker\":{\"color\":\"#B6E880\",\"size\":[6.25],\"sizemode\":\"area\",\"sizeref\":0.19997499999999999,\"symbol\":\"circle\"},\"mode\":\"markers\",\"name\":\"Duct Tape\",\"orientation\":\"v\",\"showlegend\":true,\"x\":[4.87],\"xaxis\":\"x\",\"y\":[6.25],\"yaxis\":\"y\",\"type\":\"scatter\"},{\"customdata\":[[\"Water Purifier\"]],\"hovertemplate\":\"Product Name=%{customdata[0]}\\u003cbr\\u003eProduction Cost=%{x}\\u003cbr\\u003ePrice=%{marker.size}\\u003cextra\\u003e\\u003c\\u002fextra\\u003e\",\"legendgroup\":\"Water Purifier\",\"marker\":{\"color\":\"#FF97FF\",\"size\":[30.25],\"sizemode\":\"area\",\"sizeref\":0.19997499999999999,\"symbol\":\"circle\"},\"mode\":\"markers\",\"name\":\"Water Purifier\",\"orientation\":\"v\",\"showlegend\":true,\"x\":[17.93],\"xaxis\":\"x\",\"y\":[30.25],\"yaxis\":\"y\",\"type\":\"scatter\"},{\"customdata\":[[\"N95 Mask\"]],\"hovertemplate\":\"Product Name=%{customdata[0]}\\u003cbr\\u003eProduction Cost=%{x}\\u003cbr\\u003ePrice=%{marker.size}\\u003cextra\\u003e\\u003c\\u002fextra\\u003e\",\"legendgroup\":\"N95 Mask\",\"marker\":{\"color\":\"#FECB52\",\"size\":[2.75],\"sizemode\":\"area\",\"sizeref\":0.19997499999999999,\"symbol\":\"circle\"},\"mode\":\"markers\",\"name\":\"N95 Mask\",\"orientation\":\"v\",\"showlegend\":true,\"x\":[1.01],\"xaxis\":\"x\",\"y\":[2.75],\"yaxis\":\"y\",\"type\":\"scatter\"}],                        {\"template\":{\"data\":{\"histogram2dcontour\":[{\"type\":\"histogram2dcontour\",\"colorbar\":{\"outlinewidth\":0,\"ticks\":\"\"},\"colorscale\":[[0.0,\"#0d0887\"],[0.1111111111111111,\"#46039f\"],[0.2222222222222222,\"#7201a8\"],[0.3333333333333333,\"#9c179e\"],[0.4444444444444444,\"#bd3786\"],[0.5555555555555556,\"#d8576b\"],[0.6666666666666666,\"#ed7953\"],[0.7777777777777778,\"#fb9f3a\"],[0.8888888888888888,\"#fdca26\"],[1.0,\"#f0f921\"]]}],\"choropleth\":[{\"type\":\"choropleth\",\"colorbar\":{\"outlinewidth\":0,\"ticks\":\"\"}}],\"histogram2d\":[{\"type\":\"histogram2d\",\"colorbar\":{\"outlinewidth\":0,\"ticks\":\"\"},\"colorscale\":[[0.0,\"#0d0887\"],[0.1111111111111111,\"#46039f\"],[0.2222222222222222,\"#7201a8\"],[0.3333333333333333,\"#9c179e\"],[0.4444444444444444,\"#bd3786\"],[0.5555555555555556,\"#d8576b\"],[0.6666666666666666,\"#ed7953\"],[0.7777777777777778,\"#fb9f3a\"],[0.8888888888888888,\"#fdca26\"],[1.0,\"#f0f921\"]]}],\"heatmap\":[{\"type\":\"heatmap\",\"colorbar\":{\"outlinewidth\":0,\"ticks\":\"\"},\"colorscale\":[[0.0,\"#0d0887\"],[0.1111111111111111,\"#46039f\"],[0.2222222222222222,\"#7201a8\"],[0.3333333333333333,\"#9c179e\"],[0.4444444444444444,\"#bd3786\"],[0.5555555555555556,\"#d8576b\"],[0.6666666666666666,\"#ed7953\"],[0.7777777777777778,\"#fb9f3a\"],[0.8888888888888888,\"#fdca26\"],[1.0,\"#f0f921\"]]}],\"heatmapgl\":[{\"type\":\"heatmapgl\",\"colorbar\":{\"outlinewidth\":0,\"ticks\":\"\"},\"colorscale\":[[0.0,\"#0d0887\"],[0.1111111111111111,\"#46039f\"],[0.2222222222222222,\"#7201a8\"],[0.3333333333333333,\"#9c179e\"],[0.4444444444444444,\"#bd3786\"],[0.5555555555555556,\"#d8576b\"],[0.6666666666666666,\"#ed7953\"],[0.7777777777777778,\"#fb9f3a\"],[0.8888888888888888,\"#fdca26\"],[1.0,\"#f0f921\"]]}],\"contourcarpet\":[{\"type\":\"contourcarpet\",\"colorbar\":{\"outlinewidth\":0,\"ticks\":\"\"}}],\"contour\":[{\"type\":\"contour\",\"colorbar\":{\"outlinewidth\":0,\"ticks\":\"\"},\"colorscale\":[[0.0,\"#0d0887\"],[0.1111111111111111,\"#46039f\"],[0.2222222222222222,\"#7201a8\"],[0.3333333333333333,\"#9c179e\"],[0.4444444444444444,\"#bd3786\"],[0.5555555555555556,\"#d8576b\"],[0.6666666666666666,\"#ed7953\"],[0.7777777777777778,\"#fb9f3a\"],[0.8888888888888888,\"#fdca26\"],[1.0,\"#f0f921\"]]}],\"surface\":[{\"type\":\"surface\",\"colorbar\":{\"outlinewidth\":0,\"ticks\":\"\"},\"colorscale\":[[0.0,\"#0d0887\"],[0.1111111111111111,\"#46039f\"],[0.2222222222222222,\"#7201a8\"],[0.3333333333333333,\"#9c179e\"],[0.4444444444444444,\"#bd3786\"],[0.5555555555555556,\"#d8576b\"],[0.6666666666666666,\"#ed7953\"],[0.7777777777777778,\"#fb9f3a\"],[0.8888888888888888,\"#fdca26\"],[1.0,\"#f0f921\"]]}],\"mesh3d\":[{\"type\":\"mesh3d\",\"colorbar\":{\"outlinewidth\":0,\"ticks\":\"\"}}],\"scatter\":[{\"fillpattern\":{\"fillmode\":\"overlay\",\"size\":10,\"solidity\":0.2},\"type\":\"scatter\"}],\"parcoords\":[{\"type\":\"parcoords\",\"line\":{\"colorbar\":{\"outlinewidth\":0,\"ticks\":\"\"}}}],\"scatterpolargl\":[{\"type\":\"scatterpolargl\",\"marker\":{\"colorbar\":{\"outlinewidth\":0,\"ticks\":\"\"}}}],\"bar\":[{\"error_x\":{\"color\":\"#2a3f5f\"},\"error_y\":{\"color\":\"#2a3f5f\"},\"marker\":{\"line\":{\"color\":\"#E5ECF6\",\"width\":0.5},\"pattern\":{\"fillmode\":\"overlay\",\"size\":10,\"solidity\":0.2}},\"type\":\"bar\"}],\"scattergeo\":[{\"type\":\"scattergeo\",\"marker\":{\"colorbar\":{\"outlinewidth\":0,\"ticks\":\"\"}}}],\"scatterpolar\":[{\"type\":\"scatterpolar\",\"marker\":{\"colorbar\":{\"outlinewidth\":0,\"ticks\":\"\"}}}],\"histogram\":[{\"marker\":{\"pattern\":{\"fillmode\":\"overlay\",\"size\":10,\"solidity\":0.2}},\"type\":\"histogram\"}],\"scattergl\":[{\"type\":\"scattergl\",\"marker\":{\"colorbar\":{\"outlinewidth\":0,\"ticks\":\"\"}}}],\"scatter3d\":[{\"type\":\"scatter3d\",\"line\":{\"colorbar\":{\"outlinewidth\":0,\"ticks\":\"\"}},\"marker\":{\"colorbar\":{\"outlinewidth\":0,\"ticks\":\"\"}}}],\"scattermapbox\":[{\"type\":\"scattermapbox\",\"marker\":{\"colorbar\":{\"outlinewidth\":0,\"ticks\":\"\"}}}],\"scatterternary\":[{\"type\":\"scatterternary\",\"marker\":{\"colorbar\":{\"outlinewidth\":0,\"ticks\":\"\"}}}],\"scattercarpet\":[{\"type\":\"scattercarpet\",\"marker\":{\"colorbar\":{\"outlinewidth\":0,\"ticks\":\"\"}}}],\"carpet\":[{\"aaxis\":{\"endlinecolor\":\"#2a3f5f\",\"gridcolor\":\"white\",\"linecolor\":\"white\",\"minorgridcolor\":\"white\",\"startlinecolor\":\"#2a3f5f\"},\"baxis\":{\"endlinecolor\":\"#2a3f5f\",\"gridcolor\":\"white\",\"linecolor\":\"white\",\"minorgridcolor\":\"white\",\"startlinecolor\":\"#2a3f5f\"},\"type\":\"carpet\"}],\"table\":[{\"cells\":{\"fill\":{\"color\":\"#EBF0F8\"},\"line\":{\"color\":\"white\"}},\"header\":{\"fill\":{\"color\":\"#C8D4E3\"},\"line\":{\"color\":\"white\"}},\"type\":\"table\"}],\"barpolar\":[{\"marker\":{\"line\":{\"color\":\"#E5ECF6\",\"width\":0.5},\"pattern\":{\"fillmode\":\"overlay\",\"size\":10,\"solidity\":0.2}},\"type\":\"barpolar\"}],\"pie\":[{\"automargin\":true,\"type\":\"pie\"}]},\"layout\":{\"autotypenumbers\":\"strict\",\"colorway\":[\"#636efa\",\"#EF553B\",\"#00cc96\",\"#ab63fa\",\"#FFA15A\",\"#19d3f3\",\"#FF6692\",\"#B6E880\",\"#FF97FF\",\"#FECB52\"],\"font\":{\"color\":\"#2a3f5f\"},\"hovermode\":\"closest\",\"hoverlabel\":{\"align\":\"left\"},\"paper_bgcolor\":\"white\",\"plot_bgcolor\":\"#E5ECF6\",\"polar\":{\"bgcolor\":\"#E5ECF6\",\"angularaxis\":{\"gridcolor\":\"white\",\"linecolor\":\"white\",\"ticks\":\"\"},\"radialaxis\":{\"gridcolor\":\"white\",\"linecolor\":\"white\",\"ticks\":\"\"}},\"ternary\":{\"bgcolor\":\"#E5ECF6\",\"aaxis\":{\"gridcolor\":\"white\",\"linecolor\":\"white\",\"ticks\":\"\"},\"baxis\":{\"gridcolor\":\"white\",\"linecolor\":\"white\",\"ticks\":\"\"},\"caxis\":{\"gridcolor\":\"white\",\"linecolor\":\"white\",\"ticks\":\"\"}},\"coloraxis\":{\"colorbar\":{\"outlinewidth\":0,\"ticks\":\"\"}},\"colorscale\":{\"sequential\":[[0.0,\"#0d0887\"],[0.1111111111111111,\"#46039f\"],[0.2222222222222222,\"#7201a8\"],[0.3333333333333333,\"#9c179e\"],[0.4444444444444444,\"#bd3786\"],[0.5555555555555556,\"#d8576b\"],[0.6666666666666666,\"#ed7953\"],[0.7777777777777778,\"#fb9f3a\"],[0.8888888888888888,\"#fdca26\"],[1.0,\"#f0f921\"]],\"sequentialminus\":[[0.0,\"#0d0887\"],[0.1111111111111111,\"#46039f\"],[0.2222222222222222,\"#7201a8\"],[0.3333333333333333,\"#9c179e\"],[0.4444444444444444,\"#bd3786\"],[0.5555555555555556,\"#d8576b\"],[0.6666666666666666,\"#ed7953\"],[0.7777777777777778,\"#fb9f3a\"],[0.8888888888888888,\"#fdca26\"],[1.0,\"#f0f921\"]],\"diverging\":[[0,\"#8e0152\"],[0.1,\"#c51b7d\"],[0.2,\"#de77ae\"],[0.3,\"#f1b6da\"],[0.4,\"#fde0ef\"],[0.5,\"#f7f7f7\"],[0.6,\"#e6f5d0\"],[0.7,\"#b8e186\"],[0.8,\"#7fbc41\"],[0.9,\"#4d9221\"],[1,\"#276419\"]]},\"xaxis\":{\"gridcolor\":\"white\",\"linecolor\":\"white\",\"ticks\":\"\",\"title\":{\"standoff\":15},\"zerolinecolor\":\"white\",\"automargin\":true,\"zerolinewidth\":2},\"yaxis\":{\"gridcolor\":\"white\",\"linecolor\":\"white\",\"ticks\":\"\",\"title\":{\"standoff\":15},\"zerolinecolor\":\"white\",\"automargin\":true,\"zerolinewidth\":2},\"scene\":{\"xaxis\":{\"backgroundcolor\":\"#E5ECF6\",\"gridcolor\":\"white\",\"linecolor\":\"white\",\"showbackground\":true,\"ticks\":\"\",\"zerolinecolor\":\"white\",\"gridwidth\":2},\"yaxis\":{\"backgroundcolor\":\"#E5ECF6\",\"gridcolor\":\"white\",\"linecolor\":\"white\",\"showbackground\":true,\"ticks\":\"\",\"zerolinecolor\":\"white\",\"gridwidth\":2},\"zaxis\":{\"backgroundcolor\":\"#E5ECF6\",\"gridcolor\":\"white\",\"linecolor\":\"white\",\"showbackground\":true,\"ticks\":\"\",\"zerolinecolor\":\"white\",\"gridwidth\":2}},\"shapedefaults\":{\"line\":{\"color\":\"#2a3f5f\"}},\"annotationdefaults\":{\"arrowcolor\":\"#2a3f5f\",\"arrowhead\":0,\"arrowwidth\":1},\"geo\":{\"bgcolor\":\"white\",\"landcolor\":\"#E5ECF6\",\"subunitcolor\":\"white\",\"showland\":true,\"showlakes\":true,\"lakecolor\":\"white\"},\"title\":{\"x\":0.05},\"mapbox\":{\"style\":\"light\"}}},\"xaxis\":{\"anchor\":\"y\",\"domain\":[0.0,1.0],\"title\":{\"text\":\"Production Cost\"}},\"yaxis\":{\"anchor\":\"x\",\"domain\":[0.0,1.0],\"title\":{\"text\":\"Price\"}},\"legend\":{\"title\":{\"text\":\"Product Name\"},\"tracegroupgap\":0,\"itemsizing\":\"constant\"},\"title\":{\"text\":\"Production Cost VS price\"}},                        {\"responsive\": true}                    ).then(function(){\n",
       "                            \n",
       "var gd = document.getElementById('a5f200ab-5f2c-4a8f-bdf2-5183d07f3fd4');\n",
       "var x = new MutationObserver(function (mutations, observer) {{\n",
       "        var display = window.getComputedStyle(gd).display;\n",
       "        if (!display || display === 'none') {{\n",
       "            console.log([gd, 'removed!']);\n",
       "            Plotly.purge(gd);\n",
       "            observer.disconnect();\n",
       "        }}\n",
       "}});\n",
       "\n",
       "// Listen for the removal of the full notebook cells\n",
       "var notebookContainer = gd.closest('#notebook-container');\n",
       "if (notebookContainer) {{\n",
       "    x.observe(notebookContainer, {childList: true});\n",
       "}}\n",
       "\n",
       "// Listen for the clearing of the current output cell\n",
       "var outputEl = gd.closest('.output');\n",
       "if (outputEl) {{\n",
       "    x.observe(outputEl, {childList: true});\n",
       "}}\n",
       "\n",
       "                        })                };                });            </script>        </div>"
      ]
     },
     "metadata": {},
     "output_type": "display_data"
    }
   ],
   "source": [
    "Production_Cost_Price_Relation = px.scatter(store_data, x=\"Production Cost\", y=\"Price\", color=\"Product Name\",title=\"Production Cost VS price\" , hover_data=['Product Name'] , size='Price')\n",
    "Production_Cost_Price_Relation.show()"
   ]
  },
  {
   "cell_type": "code",
   "execution_count": 11,
   "id": "6e2a0d61",
   "metadata": {
    "execution": {
     "iopub.execute_input": "2023-09-02T11:45:48.506087Z",
     "iopub.status.busy": "2023-09-02T11:45:48.505684Z",
     "iopub.status.idle": "2023-09-02T11:45:48.518544Z",
     "shell.execute_reply": "2023-09-02T11:45:48.517377Z"
    },
    "papermill": {
     "duration": 0.026967,
     "end_time": "2023-09-02T11:45:48.521067",
     "exception": false,
     "start_time": "2023-09-02T11:45:48.494100",
     "status": "completed"
    },
    "tags": []
   },
   "outputs": [
    {
     "data": {
      "text/html": [
       "<div>\n",
       "<style scoped>\n",
       "    .dataframe tbody tr th:only-of-type {\n",
       "        vertical-align: middle;\n",
       "    }\n",
       "\n",
       "    .dataframe tbody tr th {\n",
       "        vertical-align: top;\n",
       "    }\n",
       "\n",
       "    .dataframe thead th {\n",
       "        text-align: right;\n",
       "    }\n",
       "</style>\n",
       "<table border=\"1\" class=\"dataframe\">\n",
       "  <thead>\n",
       "    <tr style=\"text-align: right;\">\n",
       "      <th></th>\n",
       "      <th>Customer ID</th>\n",
       "      <th>Customer</th>\n",
       "      <th>Address</th>\n",
       "      <th>City</th>\n",
       "      <th>State</th>\n",
       "      <th>Zipcode</th>\n",
       "    </tr>\n",
       "  </thead>\n",
       "  <tbody>\n",
       "    <tr>\n",
       "      <th>0</th>\n",
       "      <td>1234</td>\n",
       "      <td>Uncle Joe's Prep Shop</td>\n",
       "      <td>123 Main Street</td>\n",
       "      <td>Dallas</td>\n",
       "      <td>Texas</td>\n",
       "      <td>70571</td>\n",
       "    </tr>\n",
       "    <tr>\n",
       "      <th>1</th>\n",
       "      <td>9876</td>\n",
       "      <td>Alex The Analyst Apocolype Preppers</td>\n",
       "      <td>369 Real Avenue</td>\n",
       "      <td>New York</td>\n",
       "      <td>New York</td>\n",
       "      <td>12546</td>\n",
       "    </tr>\n",
       "    <tr>\n",
       "      <th>2</th>\n",
       "      <td>2468</td>\n",
       "      <td>Apocolypse Preppers United</td>\n",
       "      <td>444 Four Street</td>\n",
       "      <td>Benson</td>\n",
       "      <td>Minnesota</td>\n",
       "      <td>93873</td>\n",
       "    </tr>\n",
       "    <tr>\n",
       "      <th>3</th>\n",
       "      <td>1357</td>\n",
       "      <td>Prep4Anything Prepping Store</td>\n",
       "      <td>927 Apoco Street</td>\n",
       "      <td>Jefferson City</td>\n",
       "      <td>Missouri</td>\n",
       "      <td>34979</td>\n",
       "    </tr>\n",
       "  </tbody>\n",
       "</table>\n",
       "</div>"
      ],
      "text/plain": [
       "   Customer ID                              Customer           Address  \\\n",
       "0         1234                 Uncle Joe's Prep Shop   123 Main Street   \n",
       "1         9876  Alex The Analyst Apocolype Preppers    369 Real Avenue   \n",
       "2         2468            Apocolypse Preppers United   444 Four Street   \n",
       "3         1357          Prep4Anything Prepping Store  927 Apoco Street   \n",
       "\n",
       "             City      State  Zipcode  \n",
       "0          Dallas      Texas    70571  \n",
       "1        New York   New York    12546  \n",
       "2          Benson  Minnesota    93873  \n",
       "3  Jefferson City   Missouri    34979  "
      ]
     },
     "execution_count": 11,
     "metadata": {},
     "output_type": "execute_result"
    }
   ],
   "source": [
    "customer_data.head(5)"
   ]
  },
  {
   "cell_type": "code",
   "execution_count": 12,
   "id": "06cac3c7",
   "metadata": {
    "execution": {
     "iopub.execute_input": "2023-09-02T11:45:48.542836Z",
     "iopub.status.busy": "2023-09-02T11:45:48.542070Z",
     "iopub.status.idle": "2023-09-02T11:45:48.548673Z",
     "shell.execute_reply": "2023-09-02T11:45:48.547584Z"
    },
    "papermill": {
     "duration": 0.020293,
     "end_time": "2023-09-02T11:45:48.551048",
     "exception": false,
     "start_time": "2023-09-02T11:45:48.530755",
     "status": "completed"
    },
    "tags": []
   },
   "outputs": [
    {
     "data": {
      "text/plain": [
       "(4, 6)"
      ]
     },
     "execution_count": 12,
     "metadata": {},
     "output_type": "execute_result"
    }
   ],
   "source": [
    "customer_data.shape"
   ]
  },
  {
   "cell_type": "code",
   "execution_count": 13,
   "id": "120c1b86",
   "metadata": {
    "execution": {
     "iopub.execute_input": "2023-09-02T11:45:48.572656Z",
     "iopub.status.busy": "2023-09-02T11:45:48.572248Z",
     "iopub.status.idle": "2023-09-02T11:45:48.582298Z",
     "shell.execute_reply": "2023-09-02T11:45:48.580903Z"
    },
    "papermill": {
     "duration": 0.023712,
     "end_time": "2023-09-02T11:45:48.584659",
     "exception": false,
     "start_time": "2023-09-02T11:45:48.560947",
     "status": "completed"
    },
    "tags": []
   },
   "outputs": [
    {
     "data": {
      "text/plain": [
       "Customer ID    0\n",
       "Customer       0\n",
       "Address        0\n",
       "City           0\n",
       "State          0\n",
       "Zipcode        0\n",
       "dtype: int64"
      ]
     },
     "execution_count": 13,
     "metadata": {},
     "output_type": "execute_result"
    }
   ],
   "source": [
    "customer_data.isna().sum()"
   ]
  },
  {
   "cell_type": "code",
   "execution_count": 14,
   "id": "54fd3c15",
   "metadata": {
    "execution": {
     "iopub.execute_input": "2023-09-02T11:45:48.606552Z",
     "iopub.status.busy": "2023-09-02T11:45:48.606175Z",
     "iopub.status.idle": "2023-09-02T11:45:48.615664Z",
     "shell.execute_reply": "2023-09-02T11:45:48.614477Z"
    },
    "papermill": {
     "duration": 0.023346,
     "end_time": "2023-09-02T11:45:48.618192",
     "exception": false,
     "start_time": "2023-09-02T11:45:48.594846",
     "status": "completed"
    },
    "tags": []
   },
   "outputs": [],
   "source": [
    "df = store_data[['Production Cost' , 'Price']]\n",
    "production_cost_and_price_matrix = df.corr()"
   ]
  },
  {
   "cell_type": "code",
   "execution_count": 15,
   "id": "24ee3b1b",
   "metadata": {
    "execution": {
     "iopub.execute_input": "2023-09-02T11:45:48.640377Z",
     "iopub.status.busy": "2023-09-02T11:45:48.639977Z",
     "iopub.status.idle": "2023-09-02T11:45:48.648212Z",
     "shell.execute_reply": "2023-09-02T11:45:48.647006Z"
    },
    "papermill": {
     "duration": 0.021815,
     "end_time": "2023-09-02T11:45:48.650514",
     "exception": false,
     "start_time": "2023-09-02T11:45:48.628699",
     "status": "completed"
    },
    "tags": []
   },
   "outputs": [
    {
     "data": {
      "text/plain": [
       "Customer ID     int64\n",
       "Customer       object\n",
       "Address        object\n",
       "City           object\n",
       "State          object\n",
       "Zipcode         int64\n",
       "dtype: object"
      ]
     },
     "execution_count": 15,
     "metadata": {},
     "output_type": "execute_result"
    }
   ],
   "source": [
    "customer_data.dtypes"
   ]
  },
  {
   "cell_type": "code",
   "execution_count": 16,
   "id": "27de4008",
   "metadata": {
    "execution": {
     "iopub.execute_input": "2023-09-02T11:45:48.673489Z",
     "iopub.status.busy": "2023-09-02T11:45:48.673062Z",
     "iopub.status.idle": "2023-09-02T11:45:48.770824Z",
     "shell.execute_reply": "2023-09-02T11:45:48.769630Z"
    },
    "papermill": {
     "duration": 0.112525,
     "end_time": "2023-09-02T11:45:48.773418",
     "exception": false,
     "start_time": "2023-09-02T11:45:48.660893",
     "status": "completed"
    },
    "tags": []
   },
   "outputs": [
    {
     "data": {
      "text/html": [
       "<div>                            <div id=\"f11fe533-9c43-482a-93b6-91c666d1e933\" class=\"plotly-graph-div\" style=\"height:525px; width:100%;\"></div>            <script type=\"text/javascript\">                require([\"plotly\"], function(Plotly) {                    window.PLOTLYENV=window.PLOTLYENV || {};                                    if (document.getElementById(\"f11fe533-9c43-482a-93b6-91c666d1e933\")) {                    Plotly.newPlot(                        \"f11fe533-9c43-482a-93b6-91c666d1e933\",                        [{\"coloraxis\":\"coloraxis\",\"hovertemplate\":\"Production Cost=%{x}\\u003cbr\\u003ePrice=%{y}\\u003cbr\\u003ecount=%{z}\\u003cextra\\u003e\\u003c\\u002fextra\\u003e\",\"name\":\"\",\"texttemplate\":\"%{z}\",\"x\":[13.67,2.89,32.45,26.92,10.58,13.41,30.59,4.87,17.93,1.01],\"xaxis\":\"x\",\"xbingroup\":\"x\",\"y\":[30.99,7.99,45.5,39.99,28.99,26.49,79.99,6.25,30.25,2.75],\"yaxis\":\"y\",\"ybingroup\":\"y\",\"type\":\"histogram2d\"}],                        {\"template\":{\"data\":{\"histogram2dcontour\":[{\"type\":\"histogram2dcontour\",\"colorbar\":{\"outlinewidth\":0,\"ticks\":\"\"},\"colorscale\":[[0.0,\"#0d0887\"],[0.1111111111111111,\"#46039f\"],[0.2222222222222222,\"#7201a8\"],[0.3333333333333333,\"#9c179e\"],[0.4444444444444444,\"#bd3786\"],[0.5555555555555556,\"#d8576b\"],[0.6666666666666666,\"#ed7953\"],[0.7777777777777778,\"#fb9f3a\"],[0.8888888888888888,\"#fdca26\"],[1.0,\"#f0f921\"]]}],\"choropleth\":[{\"type\":\"choropleth\",\"colorbar\":{\"outlinewidth\":0,\"ticks\":\"\"}}],\"histogram2d\":[{\"type\":\"histogram2d\",\"colorbar\":{\"outlinewidth\":0,\"ticks\":\"\"},\"colorscale\":[[0.0,\"#0d0887\"],[0.1111111111111111,\"#46039f\"],[0.2222222222222222,\"#7201a8\"],[0.3333333333333333,\"#9c179e\"],[0.4444444444444444,\"#bd3786\"],[0.5555555555555556,\"#d8576b\"],[0.6666666666666666,\"#ed7953\"],[0.7777777777777778,\"#fb9f3a\"],[0.8888888888888888,\"#fdca26\"],[1.0,\"#f0f921\"]]}],\"heatmap\":[{\"type\":\"heatmap\",\"colorbar\":{\"outlinewidth\":0,\"ticks\":\"\"},\"colorscale\":[[0.0,\"#0d0887\"],[0.1111111111111111,\"#46039f\"],[0.2222222222222222,\"#7201a8\"],[0.3333333333333333,\"#9c179e\"],[0.4444444444444444,\"#bd3786\"],[0.5555555555555556,\"#d8576b\"],[0.6666666666666666,\"#ed7953\"],[0.7777777777777778,\"#fb9f3a\"],[0.8888888888888888,\"#fdca26\"],[1.0,\"#f0f921\"]]}],\"heatmapgl\":[{\"type\":\"heatmapgl\",\"colorbar\":{\"outlinewidth\":0,\"ticks\":\"\"},\"colorscale\":[[0.0,\"#0d0887\"],[0.1111111111111111,\"#46039f\"],[0.2222222222222222,\"#7201a8\"],[0.3333333333333333,\"#9c179e\"],[0.4444444444444444,\"#bd3786\"],[0.5555555555555556,\"#d8576b\"],[0.6666666666666666,\"#ed7953\"],[0.7777777777777778,\"#fb9f3a\"],[0.8888888888888888,\"#fdca26\"],[1.0,\"#f0f921\"]]}],\"contourcarpet\":[{\"type\":\"contourcarpet\",\"colorbar\":{\"outlinewidth\":0,\"ticks\":\"\"}}],\"contour\":[{\"type\":\"contour\",\"colorbar\":{\"outlinewidth\":0,\"ticks\":\"\"},\"colorscale\":[[0.0,\"#0d0887\"],[0.1111111111111111,\"#46039f\"],[0.2222222222222222,\"#7201a8\"],[0.3333333333333333,\"#9c179e\"],[0.4444444444444444,\"#bd3786\"],[0.5555555555555556,\"#d8576b\"],[0.6666666666666666,\"#ed7953\"],[0.7777777777777778,\"#fb9f3a\"],[0.8888888888888888,\"#fdca26\"],[1.0,\"#f0f921\"]]}],\"surface\":[{\"type\":\"surface\",\"colorbar\":{\"outlinewidth\":0,\"ticks\":\"\"},\"colorscale\":[[0.0,\"#0d0887\"],[0.1111111111111111,\"#46039f\"],[0.2222222222222222,\"#7201a8\"],[0.3333333333333333,\"#9c179e\"],[0.4444444444444444,\"#bd3786\"],[0.5555555555555556,\"#d8576b\"],[0.6666666666666666,\"#ed7953\"],[0.7777777777777778,\"#fb9f3a\"],[0.8888888888888888,\"#fdca26\"],[1.0,\"#f0f921\"]]}],\"mesh3d\":[{\"type\":\"mesh3d\",\"colorbar\":{\"outlinewidth\":0,\"ticks\":\"\"}}],\"scatter\":[{\"fillpattern\":{\"fillmode\":\"overlay\",\"size\":10,\"solidity\":0.2},\"type\":\"scatter\"}],\"parcoords\":[{\"type\":\"parcoords\",\"line\":{\"colorbar\":{\"outlinewidth\":0,\"ticks\":\"\"}}}],\"scatterpolargl\":[{\"type\":\"scatterpolargl\",\"marker\":{\"colorbar\":{\"outlinewidth\":0,\"ticks\":\"\"}}}],\"bar\":[{\"error_x\":{\"color\":\"#2a3f5f\"},\"error_y\":{\"color\":\"#2a3f5f\"},\"marker\":{\"line\":{\"color\":\"#E5ECF6\",\"width\":0.5},\"pattern\":{\"fillmode\":\"overlay\",\"size\":10,\"solidity\":0.2}},\"type\":\"bar\"}],\"scattergeo\":[{\"type\":\"scattergeo\",\"marker\":{\"colorbar\":{\"outlinewidth\":0,\"ticks\":\"\"}}}],\"scatterpolar\":[{\"type\":\"scatterpolar\",\"marker\":{\"colorbar\":{\"outlinewidth\":0,\"ticks\":\"\"}}}],\"histogram\":[{\"marker\":{\"pattern\":{\"fillmode\":\"overlay\",\"size\":10,\"solidity\":0.2}},\"type\":\"histogram\"}],\"scattergl\":[{\"type\":\"scattergl\",\"marker\":{\"colorbar\":{\"outlinewidth\":0,\"ticks\":\"\"}}}],\"scatter3d\":[{\"type\":\"scatter3d\",\"line\":{\"colorbar\":{\"outlinewidth\":0,\"ticks\":\"\"}},\"marker\":{\"colorbar\":{\"outlinewidth\":0,\"ticks\":\"\"}}}],\"scattermapbox\":[{\"type\":\"scattermapbox\",\"marker\":{\"colorbar\":{\"outlinewidth\":0,\"ticks\":\"\"}}}],\"scatterternary\":[{\"type\":\"scatterternary\",\"marker\":{\"colorbar\":{\"outlinewidth\":0,\"ticks\":\"\"}}}],\"scattercarpet\":[{\"type\":\"scattercarpet\",\"marker\":{\"colorbar\":{\"outlinewidth\":0,\"ticks\":\"\"}}}],\"carpet\":[{\"aaxis\":{\"endlinecolor\":\"#2a3f5f\",\"gridcolor\":\"white\",\"linecolor\":\"white\",\"minorgridcolor\":\"white\",\"startlinecolor\":\"#2a3f5f\"},\"baxis\":{\"endlinecolor\":\"#2a3f5f\",\"gridcolor\":\"white\",\"linecolor\":\"white\",\"minorgridcolor\":\"white\",\"startlinecolor\":\"#2a3f5f\"},\"type\":\"carpet\"}],\"table\":[{\"cells\":{\"fill\":{\"color\":\"#EBF0F8\"},\"line\":{\"color\":\"white\"}},\"header\":{\"fill\":{\"color\":\"#C8D4E3\"},\"line\":{\"color\":\"white\"}},\"type\":\"table\"}],\"barpolar\":[{\"marker\":{\"line\":{\"color\":\"#E5ECF6\",\"width\":0.5},\"pattern\":{\"fillmode\":\"overlay\",\"size\":10,\"solidity\":0.2}},\"type\":\"barpolar\"}],\"pie\":[{\"automargin\":true,\"type\":\"pie\"}]},\"layout\":{\"autotypenumbers\":\"strict\",\"colorway\":[\"#636efa\",\"#EF553B\",\"#00cc96\",\"#ab63fa\",\"#FFA15A\",\"#19d3f3\",\"#FF6692\",\"#B6E880\",\"#FF97FF\",\"#FECB52\"],\"font\":{\"color\":\"#2a3f5f\"},\"hovermode\":\"closest\",\"hoverlabel\":{\"align\":\"left\"},\"paper_bgcolor\":\"white\",\"plot_bgcolor\":\"#E5ECF6\",\"polar\":{\"bgcolor\":\"#E5ECF6\",\"angularaxis\":{\"gridcolor\":\"white\",\"linecolor\":\"white\",\"ticks\":\"\"},\"radialaxis\":{\"gridcolor\":\"white\",\"linecolor\":\"white\",\"ticks\":\"\"}},\"ternary\":{\"bgcolor\":\"#E5ECF6\",\"aaxis\":{\"gridcolor\":\"white\",\"linecolor\":\"white\",\"ticks\":\"\"},\"baxis\":{\"gridcolor\":\"white\",\"linecolor\":\"white\",\"ticks\":\"\"},\"caxis\":{\"gridcolor\":\"white\",\"linecolor\":\"white\",\"ticks\":\"\"}},\"coloraxis\":{\"colorbar\":{\"outlinewidth\":0,\"ticks\":\"\"}},\"colorscale\":{\"sequential\":[[0.0,\"#0d0887\"],[0.1111111111111111,\"#46039f\"],[0.2222222222222222,\"#7201a8\"],[0.3333333333333333,\"#9c179e\"],[0.4444444444444444,\"#bd3786\"],[0.5555555555555556,\"#d8576b\"],[0.6666666666666666,\"#ed7953\"],[0.7777777777777778,\"#fb9f3a\"],[0.8888888888888888,\"#fdca26\"],[1.0,\"#f0f921\"]],\"sequentialminus\":[[0.0,\"#0d0887\"],[0.1111111111111111,\"#46039f\"],[0.2222222222222222,\"#7201a8\"],[0.3333333333333333,\"#9c179e\"],[0.4444444444444444,\"#bd3786\"],[0.5555555555555556,\"#d8576b\"],[0.6666666666666666,\"#ed7953\"],[0.7777777777777778,\"#fb9f3a\"],[0.8888888888888888,\"#fdca26\"],[1.0,\"#f0f921\"]],\"diverging\":[[0,\"#8e0152\"],[0.1,\"#c51b7d\"],[0.2,\"#de77ae\"],[0.3,\"#f1b6da\"],[0.4,\"#fde0ef\"],[0.5,\"#f7f7f7\"],[0.6,\"#e6f5d0\"],[0.7,\"#b8e186\"],[0.8,\"#7fbc41\"],[0.9,\"#4d9221\"],[1,\"#276419\"]]},\"xaxis\":{\"gridcolor\":\"white\",\"linecolor\":\"white\",\"ticks\":\"\",\"title\":{\"standoff\":15},\"zerolinecolor\":\"white\",\"automargin\":true,\"zerolinewidth\":2},\"yaxis\":{\"gridcolor\":\"white\",\"linecolor\":\"white\",\"ticks\":\"\",\"title\":{\"standoff\":15},\"zerolinecolor\":\"white\",\"automargin\":true,\"zerolinewidth\":2},\"scene\":{\"xaxis\":{\"backgroundcolor\":\"#E5ECF6\",\"gridcolor\":\"white\",\"linecolor\":\"white\",\"showbackground\":true,\"ticks\":\"\",\"zerolinecolor\":\"white\",\"gridwidth\":2},\"yaxis\":{\"backgroundcolor\":\"#E5ECF6\",\"gridcolor\":\"white\",\"linecolor\":\"white\",\"showbackground\":true,\"ticks\":\"\",\"zerolinecolor\":\"white\",\"gridwidth\":2},\"zaxis\":{\"backgroundcolor\":\"#E5ECF6\",\"gridcolor\":\"white\",\"linecolor\":\"white\",\"showbackground\":true,\"ticks\":\"\",\"zerolinecolor\":\"white\",\"gridwidth\":2}},\"shapedefaults\":{\"line\":{\"color\":\"#2a3f5f\"}},\"annotationdefaults\":{\"arrowcolor\":\"#2a3f5f\",\"arrowhead\":0,\"arrowwidth\":1},\"geo\":{\"bgcolor\":\"white\",\"landcolor\":\"#E5ECF6\",\"subunitcolor\":\"white\",\"showland\":true,\"showlakes\":true,\"lakecolor\":\"white\"},\"title\":{\"x\":0.05},\"mapbox\":{\"style\":\"light\"}}},\"xaxis\":{\"anchor\":\"y\",\"domain\":[0.0,1.0],\"title\":{\"text\":\"Production Cost\"}},\"yaxis\":{\"anchor\":\"x\",\"domain\":[0.0,1.0],\"title\":{\"text\":\"Price\"}},\"coloraxis\":{\"colorbar\":{\"title\":{\"text\":\"count\"}},\"colorscale\":[[0.0,\"#0d0887\"],[0.1111111111111111,\"#46039f\"],[0.2222222222222222,\"#7201a8\"],[0.3333333333333333,\"#9c179e\"],[0.4444444444444444,\"#bd3786\"],[0.5555555555555556,\"#d8576b\"],[0.6666666666666666,\"#ed7953\"],[0.7777777777777778,\"#fb9f3a\"],[0.8888888888888888,\"#fdca26\"],[1.0,\"#f0f921\"]]},\"legend\":{\"tracegroupgap\":0},\"margin\":{\"t\":60}},                        {\"responsive\": true}                    ).then(function(){\n",
       "                            \n",
       "var gd = document.getElementById('f11fe533-9c43-482a-93b6-91c666d1e933');\n",
       "var x = new MutationObserver(function (mutations, observer) {{\n",
       "        var display = window.getComputedStyle(gd).display;\n",
       "        if (!display || display === 'none') {{\n",
       "            console.log([gd, 'removed!']);\n",
       "            Plotly.purge(gd);\n",
       "            observer.disconnect();\n",
       "        }}\n",
       "}});\n",
       "\n",
       "// Listen for the removal of the full notebook cells\n",
       "var notebookContainer = gd.closest('#notebook-container');\n",
       "if (notebookContainer) {{\n",
       "    x.observe(notebookContainer, {childList: true});\n",
       "}}\n",
       "\n",
       "// Listen for the clearing of the current output cell\n",
       "var outputEl = gd.closest('.output');\n",
       "if (outputEl) {{\n",
       "    x.observe(outputEl, {childList: true});\n",
       "}}\n",
       "\n",
       "                        })                };                });            </script>        </div>"
      ]
     },
     "metadata": {},
     "output_type": "display_data"
    }
   ],
   "source": [
    "fig = px.density_heatmap(store_data, x=\"Production Cost\", y=\"Price\", text_auto=True)\n",
    "fig.show()\n"
   ]
  },
  {
   "cell_type": "code",
   "execution_count": 17,
   "id": "27d17984",
   "metadata": {
    "execution": {
     "iopub.execute_input": "2023-09-02T11:45:48.796279Z",
     "iopub.status.busy": "2023-09-02T11:45:48.795863Z",
     "iopub.status.idle": "2023-09-02T11:45:48.809075Z",
     "shell.execute_reply": "2023-09-02T11:45:48.807674Z"
    },
    "papermill": {
     "duration": 0.027418,
     "end_time": "2023-09-02T11:45:48.811468",
     "exception": false,
     "start_time": "2023-09-02T11:45:48.784050",
     "status": "completed"
    },
    "tags": []
   },
   "outputs": [
    {
     "data": {
      "text/html": [
       "<div>\n",
       "<style scoped>\n",
       "    .dataframe tbody tr th:only-of-type {\n",
       "        vertical-align: middle;\n",
       "    }\n",
       "\n",
       "    .dataframe tbody tr th {\n",
       "        vertical-align: top;\n",
       "    }\n",
       "\n",
       "    .dataframe thead th {\n",
       "        text-align: right;\n",
       "    }\n",
       "</style>\n",
       "<table border=\"1\" class=\"dataframe\">\n",
       "  <thead>\n",
       "    <tr style=\"text-align: right;\">\n",
       "      <th></th>\n",
       "      <th>Cust ID</th>\n",
       "      <th>Customer</th>\n",
       "      <th>Product ID</th>\n",
       "      <th>Order ID</th>\n",
       "      <th>Units Sold</th>\n",
       "      <th>Date Purchased</th>\n",
       "    </tr>\n",
       "  </thead>\n",
       "  <tbody>\n",
       "    <tr>\n",
       "      <th>0</th>\n",
       "      <td>NaN</td>\n",
       "      <td>Uncle Joe's Prep Shop</td>\n",
       "      <td>10006</td>\n",
       "      <td>1904</td>\n",
       "      <td>32</td>\n",
       "      <td>2022-01-01</td>\n",
       "    </tr>\n",
       "    <tr>\n",
       "      <th>1</th>\n",
       "      <td>NaN</td>\n",
       "      <td>Alex The Analyst Apocolype Preppers</td>\n",
       "      <td>10005</td>\n",
       "      <td>3966</td>\n",
       "      <td>68</td>\n",
       "      <td>2022-01-02</td>\n",
       "    </tr>\n",
       "    <tr>\n",
       "      <th>2</th>\n",
       "      <td>NaN</td>\n",
       "      <td>Apocolypse Preppers United</td>\n",
       "      <td>10004</td>\n",
       "      <td>7348</td>\n",
       "      <td>69</td>\n",
       "      <td>2022-01-03</td>\n",
       "    </tr>\n",
       "    <tr>\n",
       "      <th>3</th>\n",
       "      <td>NaN</td>\n",
       "      <td>Prep4Anything Prepping Store</td>\n",
       "      <td>10005</td>\n",
       "      <td>2409</td>\n",
       "      <td>48</td>\n",
       "      <td>2022-01-04</td>\n",
       "    </tr>\n",
       "    <tr>\n",
       "      <th>4</th>\n",
       "      <td>NaN</td>\n",
       "      <td>Uncle Joe's Prep Shop</td>\n",
       "      <td>10010</td>\n",
       "      <td>2045</td>\n",
       "      <td>70</td>\n",
       "      <td>2022-01-05</td>\n",
       "    </tr>\n",
       "  </tbody>\n",
       "</table>\n",
       "</div>"
      ],
      "text/plain": [
       "   Cust ID                              Customer  Product ID  Order ID  \\\n",
       "0      NaN                 Uncle Joe's Prep Shop       10006      1904   \n",
       "1      NaN  Alex The Analyst Apocolype Preppers        10005      3966   \n",
       "2      NaN            Apocolypse Preppers United       10004      7348   \n",
       "3      NaN          Prep4Anything Prepping Store       10005      2409   \n",
       "4      NaN                 Uncle Joe's Prep Shop       10010      2045   \n",
       "\n",
       "   Units Sold Date Purchased  \n",
       "0          32     2022-01-01  \n",
       "1          68     2022-01-02  \n",
       "2          69     2022-01-03  \n",
       "3          48     2022-01-04  \n",
       "4          70     2022-01-05  "
      ]
     },
     "execution_count": 17,
     "metadata": {},
     "output_type": "execute_result"
    }
   ],
   "source": [
    "sale_data.head(5)"
   ]
  },
  {
   "cell_type": "code",
   "execution_count": 18,
   "id": "3042e764",
   "metadata": {
    "execution": {
     "iopub.execute_input": "2023-09-02T11:45:48.834672Z",
     "iopub.status.busy": "2023-09-02T11:45:48.834230Z",
     "iopub.status.idle": "2023-09-02T11:45:48.841477Z",
     "shell.execute_reply": "2023-09-02T11:45:48.840135Z"
    },
    "papermill": {
     "duration": 0.021566,
     "end_time": "2023-09-02T11:45:48.843735",
     "exception": false,
     "start_time": "2023-09-02T11:45:48.822169",
     "status": "completed"
    },
    "tags": []
   },
   "outputs": [],
   "source": [
    "sale_data.dropna(axis=1 , inplace=True)"
   ]
  },
  {
   "cell_type": "code",
   "execution_count": 19,
   "id": "01114752",
   "metadata": {
    "execution": {
     "iopub.execute_input": "2023-09-02T11:45:48.867571Z",
     "iopub.status.busy": "2023-09-02T11:45:48.867114Z",
     "iopub.status.idle": "2023-09-02T11:45:48.873343Z",
     "shell.execute_reply": "2023-09-02T11:45:48.872356Z"
    },
    "papermill": {
     "duration": 0.020614,
     "end_time": "2023-09-02T11:45:48.875567",
     "exception": false,
     "start_time": "2023-09-02T11:45:48.854953",
     "status": "completed"
    },
    "tags": []
   },
   "outputs": [
    {
     "data": {
      "text/plain": [
       "(74, 5)"
      ]
     },
     "execution_count": 19,
     "metadata": {},
     "output_type": "execute_result"
    }
   ],
   "source": [
    "sale_data.shape"
   ]
  },
  {
   "cell_type": "code",
   "execution_count": 20,
   "id": "f3322bbc",
   "metadata": {
    "execution": {
     "iopub.execute_input": "2023-09-02T11:45:48.904790Z",
     "iopub.status.busy": "2023-09-02T11:45:48.904308Z",
     "iopub.status.idle": "2023-09-02T11:45:48.939417Z",
     "shell.execute_reply": "2023-09-02T11:45:48.938137Z"
    },
    "papermill": {
     "duration": 0.052022,
     "end_time": "2023-09-02T11:45:48.942189",
     "exception": false,
     "start_time": "2023-09-02T11:45:48.890167",
     "status": "completed"
    },
    "tags": []
   },
   "outputs": [
    {
     "data": {
      "text/html": [
       "<div>\n",
       "<style scoped>\n",
       "    .dataframe tbody tr th:only-of-type {\n",
       "        vertical-align: middle;\n",
       "    }\n",
       "\n",
       "    .dataframe tbody tr th {\n",
       "        vertical-align: top;\n",
       "    }\n",
       "\n",
       "    .dataframe thead th {\n",
       "        text-align: right;\n",
       "    }\n",
       "</style>\n",
       "<table border=\"1\" class=\"dataframe\">\n",
       "  <thead>\n",
       "    <tr style=\"text-align: right;\">\n",
       "      <th></th>\n",
       "      <th>Product ID</th>\n",
       "      <th>Product Name</th>\n",
       "      <th>Price</th>\n",
       "      <th>Production Cost</th>\n",
       "      <th>Customer</th>\n",
       "      <th>Order ID</th>\n",
       "      <th>Units Sold</th>\n",
       "      <th>Date Purchased</th>\n",
       "    </tr>\n",
       "  </thead>\n",
       "  <tbody>\n",
       "    <tr>\n",
       "      <th>0</th>\n",
       "      <td>10001</td>\n",
       "      <td>Nylon Rope</td>\n",
       "      <td>30.99</td>\n",
       "      <td>13.67</td>\n",
       "      <td>Uncle Joe's Prep Shop</td>\n",
       "      <td>1043</td>\n",
       "      <td>67</td>\n",
       "      <td>2022-01-09</td>\n",
       "    </tr>\n",
       "    <tr>\n",
       "      <th>1</th>\n",
       "      <td>10001</td>\n",
       "      <td>Nylon Rope</td>\n",
       "      <td>30.99</td>\n",
       "      <td>13.67</td>\n",
       "      <td>Apocolypse Preppers United</td>\n",
       "      <td>6778</td>\n",
       "      <td>23</td>\n",
       "      <td>2022-01-11</td>\n",
       "    </tr>\n",
       "    <tr>\n",
       "      <th>2</th>\n",
       "      <td>10001</td>\n",
       "      <td>Nylon Rope</td>\n",
       "      <td>30.99</td>\n",
       "      <td>13.67</td>\n",
       "      <td>Apocolypse Preppers United</td>\n",
       "      <td>1341</td>\n",
       "      <td>66</td>\n",
       "      <td>2022-01-24</td>\n",
       "    </tr>\n",
       "    <tr>\n",
       "      <th>3</th>\n",
       "      <td>10001</td>\n",
       "      <td>Nylon Rope</td>\n",
       "      <td>30.99</td>\n",
       "      <td>13.67</td>\n",
       "      <td>Uncle Joe's Prep Shop</td>\n",
       "      <td>7175</td>\n",
       "      <td>5</td>\n",
       "      <td>2022-01-26</td>\n",
       "    </tr>\n",
       "    <tr>\n",
       "      <th>4</th>\n",
       "      <td>10001</td>\n",
       "      <td>Nylon Rope</td>\n",
       "      <td>30.99</td>\n",
       "      <td>13.67</td>\n",
       "      <td>Alex The Analyst Apocolype Preppers</td>\n",
       "      <td>3587</td>\n",
       "      <td>48</td>\n",
       "      <td>2022-02-06</td>\n",
       "    </tr>\n",
       "    <tr>\n",
       "      <th>...</th>\n",
       "      <td>...</td>\n",
       "      <td>...</td>\n",
       "      <td>...</td>\n",
       "      <td>...</td>\n",
       "      <td>...</td>\n",
       "      <td>...</td>\n",
       "      <td>...</td>\n",
       "      <td>...</td>\n",
       "    </tr>\n",
       "    <tr>\n",
       "      <th>69</th>\n",
       "      <td>10010</td>\n",
       "      <td>N95 Mask</td>\n",
       "      <td>2.75</td>\n",
       "      <td>1.01</td>\n",
       "      <td>Uncle Joe's Prep Shop</td>\n",
       "      <td>3665</td>\n",
       "      <td>76</td>\n",
       "      <td>2022-02-13</td>\n",
       "    </tr>\n",
       "    <tr>\n",
       "      <th>70</th>\n",
       "      <td>10010</td>\n",
       "      <td>N95 Mask</td>\n",
       "      <td>2.75</td>\n",
       "      <td>1.01</td>\n",
       "      <td>Prep4Anything Prepping Store</td>\n",
       "      <td>5818</td>\n",
       "      <td>5</td>\n",
       "      <td>2022-02-24</td>\n",
       "    </tr>\n",
       "    <tr>\n",
       "      <th>71</th>\n",
       "      <td>10010</td>\n",
       "      <td>N95 Mask</td>\n",
       "      <td>2.75</td>\n",
       "      <td>1.01</td>\n",
       "      <td>Uncle Joe's Prep Shop</td>\n",
       "      <td>2462</td>\n",
       "      <td>10</td>\n",
       "      <td>2022-02-25</td>\n",
       "    </tr>\n",
       "    <tr>\n",
       "      <th>72</th>\n",
       "      <td>10010</td>\n",
       "      <td>N95 Mask</td>\n",
       "      <td>2.75</td>\n",
       "      <td>1.01</td>\n",
       "      <td>Uncle Joe's Prep Shop</td>\n",
       "      <td>2059</td>\n",
       "      <td>54</td>\n",
       "      <td>2022-03-01</td>\n",
       "    </tr>\n",
       "    <tr>\n",
       "      <th>73</th>\n",
       "      <td>10010</td>\n",
       "      <td>N95 Mask</td>\n",
       "      <td>2.75</td>\n",
       "      <td>1.01</td>\n",
       "      <td>Apocolypse Preppers United</td>\n",
       "      <td>2923</td>\n",
       "      <td>23</td>\n",
       "      <td>2022-03-10</td>\n",
       "    </tr>\n",
       "  </tbody>\n",
       "</table>\n",
       "<p>74 rows × 8 columns</p>\n",
       "</div>"
      ],
      "text/plain": [
       "    Product ID Product Name  Price  Production Cost  \\\n",
       "0        10001   Nylon Rope  30.99            13.67   \n",
       "1        10001   Nylon Rope  30.99            13.67   \n",
       "2        10001   Nylon Rope  30.99            13.67   \n",
       "3        10001   Nylon Rope  30.99            13.67   \n",
       "4        10001   Nylon Rope  30.99            13.67   \n",
       "..         ...          ...    ...              ...   \n",
       "69       10010     N95 Mask   2.75             1.01   \n",
       "70       10010     N95 Mask   2.75             1.01   \n",
       "71       10010     N95 Mask   2.75             1.01   \n",
       "72       10010     N95 Mask   2.75             1.01   \n",
       "73       10010     N95 Mask   2.75             1.01   \n",
       "\n",
       "                                Customer  Order ID  Units Sold Date Purchased  \n",
       "0                  Uncle Joe's Prep Shop      1043          67     2022-01-09  \n",
       "1             Apocolypse Preppers United      6778          23     2022-01-11  \n",
       "2             Apocolypse Preppers United      1341          66     2022-01-24  \n",
       "3                  Uncle Joe's Prep Shop      7175           5     2022-01-26  \n",
       "4   Alex The Analyst Apocolype Preppers       3587          48     2022-02-06  \n",
       "..                                   ...       ...         ...            ...  \n",
       "69                 Uncle Joe's Prep Shop      3665          76     2022-02-13  \n",
       "70          Prep4Anything Prepping Store      5818           5     2022-02-24  \n",
       "71                 Uncle Joe's Prep Shop      2462          10     2022-02-25  \n",
       "72                 Uncle Joe's Prep Shop      2059          54     2022-03-01  \n",
       "73            Apocolypse Preppers United      2923          23     2022-03-10  \n",
       "\n",
       "[74 rows x 8 columns]"
      ]
     },
     "execution_count": 20,
     "metadata": {},
     "output_type": "execute_result"
    }
   ],
   "source": [
    "sale_stor_data = store_data.merge(sale_data , how=\"left\")\n",
    "sale_stor_data\n",
    "\n"
   ]
  },
  {
   "cell_type": "code",
   "execution_count": 21,
   "id": "a5e2c912",
   "metadata": {
    "execution": {
     "iopub.execute_input": "2023-09-02T11:45:48.976036Z",
     "iopub.status.busy": "2023-09-02T11:45:48.975032Z",
     "iopub.status.idle": "2023-09-02T11:45:48.990032Z",
     "shell.execute_reply": "2023-09-02T11:45:48.988786Z"
    },
    "papermill": {
     "duration": 0.032398,
     "end_time": "2023-09-02T11:45:48.992499",
     "exception": false,
     "start_time": "2023-09-02T11:45:48.960101",
     "status": "completed"
    },
    "tags": []
   },
   "outputs": [
    {
     "data": {
      "text/plain": [
       "Product Name\n",
       "Backpack                     507012\n",
       "Duct Tape                     54906\n",
       "Multitool Survivial Knife    269688\n",
       "N95 Mask                     143150\n",
       "Nylon Rope                    69881\n",
       "Solar Battery Flashlight      60928\n",
       "Stainless Steel Axe           62835\n",
       "Water Purifier               473340\n",
       "Waterproof Matches           184928\n",
       "Weatherproof Jacket           49525\n",
       "dtype: int64"
      ]
     },
     "execution_count": 21,
     "metadata": {},
     "output_type": "execute_result"
    }
   ],
   "source": [
    "total_solds = sale_stor_data.groupby([\"Product Name\"] ).apply\\\n",
    "(lambda df : df['Units Sold'].iloc[0] * df['Order ID'].iloc[0])\n",
    "total_solds"
   ]
  },
  {
   "cell_type": "code",
   "execution_count": 22,
   "id": "5f6b5a94",
   "metadata": {
    "execution": {
     "iopub.execute_input": "2023-09-02T11:45:49.026599Z",
     "iopub.status.busy": "2023-09-02T11:45:49.025397Z",
     "iopub.status.idle": "2023-09-02T11:45:49.031814Z",
     "shell.execute_reply": "2023-09-02T11:45:49.030987Z"
    },
    "papermill": {
     "duration": 0.026471,
     "end_time": "2023-09-02T11:45:49.034301",
     "exception": false,
     "start_time": "2023-09-02T11:45:49.007830",
     "status": "completed"
    },
    "tags": []
   },
   "outputs": [],
   "source": [
    "df =pd.DataFrame({\"Product Name\" :sale_stor_data['Product Name'].unique() ,\\\n",
    "                  \"Total Sold\" : total_solds})\n"
   ]
  },
  {
   "cell_type": "code",
   "execution_count": 23,
   "id": "630cac26",
   "metadata": {
    "execution": {
     "iopub.execute_input": "2023-09-02T11:45:49.065006Z",
     "iopub.status.busy": "2023-09-02T11:45:49.064544Z",
     "iopub.status.idle": "2023-09-02T11:45:49.133871Z",
     "shell.execute_reply": "2023-09-02T11:45:49.132654Z"
    },
    "papermill": {
     "duration": 0.087777,
     "end_time": "2023-09-02T11:45:49.136661",
     "exception": false,
     "start_time": "2023-09-02T11:45:49.048884",
     "status": "completed"
    },
    "tags": []
   },
   "outputs": [
    {
     "data": {
      "text/html": [
       "<div>                            <div id=\"b8af6a10-6893-4cd0-987b-fdc45fdb330b\" class=\"plotly-graph-div\" style=\"height:525px; width:100%;\"></div>            <script type=\"text/javascript\">                require([\"plotly\"], function(Plotly) {                    window.PLOTLYENV=window.PLOTLYENV || {};                                    if (document.getElementById(\"b8af6a10-6893-4cd0-987b-fdc45fdb330b\")) {                    Plotly.newPlot(                        \"b8af6a10-6893-4cd0-987b-fdc45fdb330b\",                        [{\"alignmentgroup\":\"True\",\"hovertemplate\":\"Product Name=%{x}\\u003cbr\\u003eTotal Sold=%{y}\\u003cextra\\u003e\\u003c\\u002fextra\\u003e\",\"legendgroup\":\"\",\"marker\":{\"color\":\"#636efa\",\"pattern\":{\"shape\":\"\"}},\"name\":\"\",\"offsetgroup\":\"\",\"orientation\":\"v\",\"showlegend\":false,\"textposition\":\"auto\",\"x\":[\"Backpack\",\"Duct Tape\",\"Multitool Survivial Knife\",\"N95 Mask\",\"Nylon Rope\",\"Solar Battery Flashlight\",\"Stainless Steel Axe \",\"Water Purifier\",\"Waterproof Matches\",\"Weatherproof Jacket\"],\"xaxis\":\"x\",\"y\":[507012,54906,269688,143150,69881,60928,62835,473340,184928,49525],\"yaxis\":\"y\",\"type\":\"bar\"}],                        {\"template\":{\"data\":{\"histogram2dcontour\":[{\"type\":\"histogram2dcontour\",\"colorbar\":{\"outlinewidth\":0,\"ticks\":\"\"},\"colorscale\":[[0.0,\"#0d0887\"],[0.1111111111111111,\"#46039f\"],[0.2222222222222222,\"#7201a8\"],[0.3333333333333333,\"#9c179e\"],[0.4444444444444444,\"#bd3786\"],[0.5555555555555556,\"#d8576b\"],[0.6666666666666666,\"#ed7953\"],[0.7777777777777778,\"#fb9f3a\"],[0.8888888888888888,\"#fdca26\"],[1.0,\"#f0f921\"]]}],\"choropleth\":[{\"type\":\"choropleth\",\"colorbar\":{\"outlinewidth\":0,\"ticks\":\"\"}}],\"histogram2d\":[{\"type\":\"histogram2d\",\"colorbar\":{\"outlinewidth\":0,\"ticks\":\"\"},\"colorscale\":[[0.0,\"#0d0887\"],[0.1111111111111111,\"#46039f\"],[0.2222222222222222,\"#7201a8\"],[0.3333333333333333,\"#9c179e\"],[0.4444444444444444,\"#bd3786\"],[0.5555555555555556,\"#d8576b\"],[0.6666666666666666,\"#ed7953\"],[0.7777777777777778,\"#fb9f3a\"],[0.8888888888888888,\"#fdca26\"],[1.0,\"#f0f921\"]]}],\"heatmap\":[{\"type\":\"heatmap\",\"colorbar\":{\"outlinewidth\":0,\"ticks\":\"\"},\"colorscale\":[[0.0,\"#0d0887\"],[0.1111111111111111,\"#46039f\"],[0.2222222222222222,\"#7201a8\"],[0.3333333333333333,\"#9c179e\"],[0.4444444444444444,\"#bd3786\"],[0.5555555555555556,\"#d8576b\"],[0.6666666666666666,\"#ed7953\"],[0.7777777777777778,\"#fb9f3a\"],[0.8888888888888888,\"#fdca26\"],[1.0,\"#f0f921\"]]}],\"heatmapgl\":[{\"type\":\"heatmapgl\",\"colorbar\":{\"outlinewidth\":0,\"ticks\":\"\"},\"colorscale\":[[0.0,\"#0d0887\"],[0.1111111111111111,\"#46039f\"],[0.2222222222222222,\"#7201a8\"],[0.3333333333333333,\"#9c179e\"],[0.4444444444444444,\"#bd3786\"],[0.5555555555555556,\"#d8576b\"],[0.6666666666666666,\"#ed7953\"],[0.7777777777777778,\"#fb9f3a\"],[0.8888888888888888,\"#fdca26\"],[1.0,\"#f0f921\"]]}],\"contourcarpet\":[{\"type\":\"contourcarpet\",\"colorbar\":{\"outlinewidth\":0,\"ticks\":\"\"}}],\"contour\":[{\"type\":\"contour\",\"colorbar\":{\"outlinewidth\":0,\"ticks\":\"\"},\"colorscale\":[[0.0,\"#0d0887\"],[0.1111111111111111,\"#46039f\"],[0.2222222222222222,\"#7201a8\"],[0.3333333333333333,\"#9c179e\"],[0.4444444444444444,\"#bd3786\"],[0.5555555555555556,\"#d8576b\"],[0.6666666666666666,\"#ed7953\"],[0.7777777777777778,\"#fb9f3a\"],[0.8888888888888888,\"#fdca26\"],[1.0,\"#f0f921\"]]}],\"surface\":[{\"type\":\"surface\",\"colorbar\":{\"outlinewidth\":0,\"ticks\":\"\"},\"colorscale\":[[0.0,\"#0d0887\"],[0.1111111111111111,\"#46039f\"],[0.2222222222222222,\"#7201a8\"],[0.3333333333333333,\"#9c179e\"],[0.4444444444444444,\"#bd3786\"],[0.5555555555555556,\"#d8576b\"],[0.6666666666666666,\"#ed7953\"],[0.7777777777777778,\"#fb9f3a\"],[0.8888888888888888,\"#fdca26\"],[1.0,\"#f0f921\"]]}],\"mesh3d\":[{\"type\":\"mesh3d\",\"colorbar\":{\"outlinewidth\":0,\"ticks\":\"\"}}],\"scatter\":[{\"fillpattern\":{\"fillmode\":\"overlay\",\"size\":10,\"solidity\":0.2},\"type\":\"scatter\"}],\"parcoords\":[{\"type\":\"parcoords\",\"line\":{\"colorbar\":{\"outlinewidth\":0,\"ticks\":\"\"}}}],\"scatterpolargl\":[{\"type\":\"scatterpolargl\",\"marker\":{\"colorbar\":{\"outlinewidth\":0,\"ticks\":\"\"}}}],\"bar\":[{\"error_x\":{\"color\":\"#2a3f5f\"},\"error_y\":{\"color\":\"#2a3f5f\"},\"marker\":{\"line\":{\"color\":\"#E5ECF6\",\"width\":0.5},\"pattern\":{\"fillmode\":\"overlay\",\"size\":10,\"solidity\":0.2}},\"type\":\"bar\"}],\"scattergeo\":[{\"type\":\"scattergeo\",\"marker\":{\"colorbar\":{\"outlinewidth\":0,\"ticks\":\"\"}}}],\"scatterpolar\":[{\"type\":\"scatterpolar\",\"marker\":{\"colorbar\":{\"outlinewidth\":0,\"ticks\":\"\"}}}],\"histogram\":[{\"marker\":{\"pattern\":{\"fillmode\":\"overlay\",\"size\":10,\"solidity\":0.2}},\"type\":\"histogram\"}],\"scattergl\":[{\"type\":\"scattergl\",\"marker\":{\"colorbar\":{\"outlinewidth\":0,\"ticks\":\"\"}}}],\"scatter3d\":[{\"type\":\"scatter3d\",\"line\":{\"colorbar\":{\"outlinewidth\":0,\"ticks\":\"\"}},\"marker\":{\"colorbar\":{\"outlinewidth\":0,\"ticks\":\"\"}}}],\"scattermapbox\":[{\"type\":\"scattermapbox\",\"marker\":{\"colorbar\":{\"outlinewidth\":0,\"ticks\":\"\"}}}],\"scatterternary\":[{\"type\":\"scatterternary\",\"marker\":{\"colorbar\":{\"outlinewidth\":0,\"ticks\":\"\"}}}],\"scattercarpet\":[{\"type\":\"scattercarpet\",\"marker\":{\"colorbar\":{\"outlinewidth\":0,\"ticks\":\"\"}}}],\"carpet\":[{\"aaxis\":{\"endlinecolor\":\"#2a3f5f\",\"gridcolor\":\"white\",\"linecolor\":\"white\",\"minorgridcolor\":\"white\",\"startlinecolor\":\"#2a3f5f\"},\"baxis\":{\"endlinecolor\":\"#2a3f5f\",\"gridcolor\":\"white\",\"linecolor\":\"white\",\"minorgridcolor\":\"white\",\"startlinecolor\":\"#2a3f5f\"},\"type\":\"carpet\"}],\"table\":[{\"cells\":{\"fill\":{\"color\":\"#EBF0F8\"},\"line\":{\"color\":\"white\"}},\"header\":{\"fill\":{\"color\":\"#C8D4E3\"},\"line\":{\"color\":\"white\"}},\"type\":\"table\"}],\"barpolar\":[{\"marker\":{\"line\":{\"color\":\"#E5ECF6\",\"width\":0.5},\"pattern\":{\"fillmode\":\"overlay\",\"size\":10,\"solidity\":0.2}},\"type\":\"barpolar\"}],\"pie\":[{\"automargin\":true,\"type\":\"pie\"}]},\"layout\":{\"autotypenumbers\":\"strict\",\"colorway\":[\"#636efa\",\"#EF553B\",\"#00cc96\",\"#ab63fa\",\"#FFA15A\",\"#19d3f3\",\"#FF6692\",\"#B6E880\",\"#FF97FF\",\"#FECB52\"],\"font\":{\"color\":\"#2a3f5f\"},\"hovermode\":\"closest\",\"hoverlabel\":{\"align\":\"left\"},\"paper_bgcolor\":\"white\",\"plot_bgcolor\":\"#E5ECF6\",\"polar\":{\"bgcolor\":\"#E5ECF6\",\"angularaxis\":{\"gridcolor\":\"white\",\"linecolor\":\"white\",\"ticks\":\"\"},\"radialaxis\":{\"gridcolor\":\"white\",\"linecolor\":\"white\",\"ticks\":\"\"}},\"ternary\":{\"bgcolor\":\"#E5ECF6\",\"aaxis\":{\"gridcolor\":\"white\",\"linecolor\":\"white\",\"ticks\":\"\"},\"baxis\":{\"gridcolor\":\"white\",\"linecolor\":\"white\",\"ticks\":\"\"},\"caxis\":{\"gridcolor\":\"white\",\"linecolor\":\"white\",\"ticks\":\"\"}},\"coloraxis\":{\"colorbar\":{\"outlinewidth\":0,\"ticks\":\"\"}},\"colorscale\":{\"sequential\":[[0.0,\"#0d0887\"],[0.1111111111111111,\"#46039f\"],[0.2222222222222222,\"#7201a8\"],[0.3333333333333333,\"#9c179e\"],[0.4444444444444444,\"#bd3786\"],[0.5555555555555556,\"#d8576b\"],[0.6666666666666666,\"#ed7953\"],[0.7777777777777778,\"#fb9f3a\"],[0.8888888888888888,\"#fdca26\"],[1.0,\"#f0f921\"]],\"sequentialminus\":[[0.0,\"#0d0887\"],[0.1111111111111111,\"#46039f\"],[0.2222222222222222,\"#7201a8\"],[0.3333333333333333,\"#9c179e\"],[0.4444444444444444,\"#bd3786\"],[0.5555555555555556,\"#d8576b\"],[0.6666666666666666,\"#ed7953\"],[0.7777777777777778,\"#fb9f3a\"],[0.8888888888888888,\"#fdca26\"],[1.0,\"#f0f921\"]],\"diverging\":[[0,\"#8e0152\"],[0.1,\"#c51b7d\"],[0.2,\"#de77ae\"],[0.3,\"#f1b6da\"],[0.4,\"#fde0ef\"],[0.5,\"#f7f7f7\"],[0.6,\"#e6f5d0\"],[0.7,\"#b8e186\"],[0.8,\"#7fbc41\"],[0.9,\"#4d9221\"],[1,\"#276419\"]]},\"xaxis\":{\"gridcolor\":\"white\",\"linecolor\":\"white\",\"ticks\":\"\",\"title\":{\"standoff\":15},\"zerolinecolor\":\"white\",\"automargin\":true,\"zerolinewidth\":2},\"yaxis\":{\"gridcolor\":\"white\",\"linecolor\":\"white\",\"ticks\":\"\",\"title\":{\"standoff\":15},\"zerolinecolor\":\"white\",\"automargin\":true,\"zerolinewidth\":2},\"scene\":{\"xaxis\":{\"backgroundcolor\":\"#E5ECF6\",\"gridcolor\":\"white\",\"linecolor\":\"white\",\"showbackground\":true,\"ticks\":\"\",\"zerolinecolor\":\"white\",\"gridwidth\":2},\"yaxis\":{\"backgroundcolor\":\"#E5ECF6\",\"gridcolor\":\"white\",\"linecolor\":\"white\",\"showbackground\":true,\"ticks\":\"\",\"zerolinecolor\":\"white\",\"gridwidth\":2},\"zaxis\":{\"backgroundcolor\":\"#E5ECF6\",\"gridcolor\":\"white\",\"linecolor\":\"white\",\"showbackground\":true,\"ticks\":\"\",\"zerolinecolor\":\"white\",\"gridwidth\":2}},\"shapedefaults\":{\"line\":{\"color\":\"#2a3f5f\"}},\"annotationdefaults\":{\"arrowcolor\":\"#2a3f5f\",\"arrowhead\":0,\"arrowwidth\":1},\"geo\":{\"bgcolor\":\"white\",\"landcolor\":\"#E5ECF6\",\"subunitcolor\":\"white\",\"showland\":true,\"showlakes\":true,\"lakecolor\":\"white\"},\"title\":{\"x\":0.05},\"mapbox\":{\"style\":\"light\"}}},\"xaxis\":{\"anchor\":\"y\",\"domain\":[0.0,1.0],\"title\":{\"text\":\"Product Name\"}},\"yaxis\":{\"anchor\":\"x\",\"domain\":[0.0,1.0],\"title\":{\"text\":\"Total Sold\"}},\"legend\":{\"tracegroupgap\":0},\"title\":{\"text\":\"Total Sold For Each Product \"},\"barmode\":\"relative\"},                        {\"responsive\": true}                    ).then(function(){\n",
       "                            \n",
       "var gd = document.getElementById('b8af6a10-6893-4cd0-987b-fdc45fdb330b');\n",
       "var x = new MutationObserver(function (mutations, observer) {{\n",
       "        var display = window.getComputedStyle(gd).display;\n",
       "        if (!display || display === 'none') {{\n",
       "            console.log([gd, 'removed!']);\n",
       "            Plotly.purge(gd);\n",
       "            observer.disconnect();\n",
       "        }}\n",
       "}});\n",
       "\n",
       "// Listen for the removal of the full notebook cells\n",
       "var notebookContainer = gd.closest('#notebook-container');\n",
       "if (notebookContainer) {{\n",
       "    x.observe(notebookContainer, {childList: true});\n",
       "}}\n",
       "\n",
       "// Listen for the clearing of the current output cell\n",
       "var outputEl = gd.closest('.output');\n",
       "if (outputEl) {{\n",
       "    x.observe(outputEl, {childList: true});\n",
       "}}\n",
       "\n",
       "                        })                };                });            </script>        </div>"
      ]
     },
     "metadata": {},
     "output_type": "display_data"
    }
   ],
   "source": [
    "fig = px.bar(sale_stor_data , x=(sale_stor_data.groupby([\"Product Name\"] ).apply\\\n",
    "(lambda df : df['Units Sold'].iloc[0] * df['Order ID'].iloc[0])).index,\\\n",
    "             y=sale_stor_data.groupby([\"Product Name\"] ).apply\\\n",
    "(lambda df : df['Units Sold'].iloc[0] * df['Order ID'].iloc[0]).tolist() ,\\\n",
    "             title=\"Total Sold For Each Product \" ,\\\n",
    "               labels={\n",
    "                     \"x\": \"Product Name\",\n",
    "                     \"y\": \"Total Sold\"\n",
    "                 }\n",
    "            \n",
    "            )\n",
    "fig.show()"
   ]
  },
  {
   "cell_type": "code",
   "execution_count": 24,
   "id": "b40fd750",
   "metadata": {
    "execution": {
     "iopub.execute_input": "2023-09-02T11:45:49.161760Z",
     "iopub.status.busy": "2023-09-02T11:45:49.161361Z",
     "iopub.status.idle": "2023-09-02T11:45:49.190250Z",
     "shell.execute_reply": "2023-09-02T11:45:49.189172Z"
    },
    "papermill": {
     "duration": 0.044674,
     "end_time": "2023-09-02T11:45:49.192768",
     "exception": false,
     "start_time": "2023-09-02T11:45:49.148094",
     "status": "completed"
    },
    "tags": []
   },
   "outputs": [
    {
     "data": {
      "text/html": [
       "<div>\n",
       "<style scoped>\n",
       "    .dataframe tbody tr th:only-of-type {\n",
       "        vertical-align: middle;\n",
       "    }\n",
       "\n",
       "    .dataframe tbody tr th {\n",
       "        vertical-align: top;\n",
       "    }\n",
       "\n",
       "    .dataframe thead th {\n",
       "        text-align: right;\n",
       "    }\n",
       "</style>\n",
       "<table border=\"1\" class=\"dataframe\">\n",
       "  <thead>\n",
       "    <tr style=\"text-align: right;\">\n",
       "      <th></th>\n",
       "      <th>Product ID</th>\n",
       "      <th>Product Name</th>\n",
       "      <th>Price</th>\n",
       "      <th>Production Cost</th>\n",
       "      <th>Customer</th>\n",
       "      <th>Order ID</th>\n",
       "      <th>Units Sold</th>\n",
       "      <th>Date Purchased</th>\n",
       "      <th>Customer ID</th>\n",
       "      <th>Address</th>\n",
       "      <th>City</th>\n",
       "      <th>State</th>\n",
       "      <th>Zipcode</th>\n",
       "    </tr>\n",
       "  </thead>\n",
       "  <tbody>\n",
       "    <tr>\n",
       "      <th>0</th>\n",
       "      <td>10001</td>\n",
       "      <td>Nylon Rope</td>\n",
       "      <td>30.99</td>\n",
       "      <td>13.67</td>\n",
       "      <td>Uncle Joe's Prep Shop</td>\n",
       "      <td>1043</td>\n",
       "      <td>67</td>\n",
       "      <td>2022-01-09</td>\n",
       "      <td>1234</td>\n",
       "      <td>123 Main Street</td>\n",
       "      <td>Dallas</td>\n",
       "      <td>Texas</td>\n",
       "      <td>70571</td>\n",
       "    </tr>\n",
       "    <tr>\n",
       "      <th>1</th>\n",
       "      <td>10001</td>\n",
       "      <td>Nylon Rope</td>\n",
       "      <td>30.99</td>\n",
       "      <td>13.67</td>\n",
       "      <td>Apocolypse Preppers United</td>\n",
       "      <td>6778</td>\n",
       "      <td>23</td>\n",
       "      <td>2022-01-11</td>\n",
       "      <td>2468</td>\n",
       "      <td>444 Four Street</td>\n",
       "      <td>Benson</td>\n",
       "      <td>Minnesota</td>\n",
       "      <td>93873</td>\n",
       "    </tr>\n",
       "    <tr>\n",
       "      <th>2</th>\n",
       "      <td>10001</td>\n",
       "      <td>Nylon Rope</td>\n",
       "      <td>30.99</td>\n",
       "      <td>13.67</td>\n",
       "      <td>Apocolypse Preppers United</td>\n",
       "      <td>1341</td>\n",
       "      <td>66</td>\n",
       "      <td>2022-01-24</td>\n",
       "      <td>2468</td>\n",
       "      <td>444 Four Street</td>\n",
       "      <td>Benson</td>\n",
       "      <td>Minnesota</td>\n",
       "      <td>93873</td>\n",
       "    </tr>\n",
       "    <tr>\n",
       "      <th>3</th>\n",
       "      <td>10001</td>\n",
       "      <td>Nylon Rope</td>\n",
       "      <td>30.99</td>\n",
       "      <td>13.67</td>\n",
       "      <td>Uncle Joe's Prep Shop</td>\n",
       "      <td>7175</td>\n",
       "      <td>5</td>\n",
       "      <td>2022-01-26</td>\n",
       "      <td>1234</td>\n",
       "      <td>123 Main Street</td>\n",
       "      <td>Dallas</td>\n",
       "      <td>Texas</td>\n",
       "      <td>70571</td>\n",
       "    </tr>\n",
       "    <tr>\n",
       "      <th>4</th>\n",
       "      <td>10001</td>\n",
       "      <td>Nylon Rope</td>\n",
       "      <td>30.99</td>\n",
       "      <td>13.67</td>\n",
       "      <td>Alex The Analyst Apocolype Preppers</td>\n",
       "      <td>3587</td>\n",
       "      <td>48</td>\n",
       "      <td>2022-02-06</td>\n",
       "      <td>9876</td>\n",
       "      <td>369 Real Avenue</td>\n",
       "      <td>New York</td>\n",
       "      <td>New York</td>\n",
       "      <td>12546</td>\n",
       "    </tr>\n",
       "    <tr>\n",
       "      <th>...</th>\n",
       "      <td>...</td>\n",
       "      <td>...</td>\n",
       "      <td>...</td>\n",
       "      <td>...</td>\n",
       "      <td>...</td>\n",
       "      <td>...</td>\n",
       "      <td>...</td>\n",
       "      <td>...</td>\n",
       "      <td>...</td>\n",
       "      <td>...</td>\n",
       "      <td>...</td>\n",
       "      <td>...</td>\n",
       "      <td>...</td>\n",
       "    </tr>\n",
       "    <tr>\n",
       "      <th>69</th>\n",
       "      <td>10010</td>\n",
       "      <td>N95 Mask</td>\n",
       "      <td>2.75</td>\n",
       "      <td>1.01</td>\n",
       "      <td>Uncle Joe's Prep Shop</td>\n",
       "      <td>3665</td>\n",
       "      <td>76</td>\n",
       "      <td>2022-02-13</td>\n",
       "      <td>1234</td>\n",
       "      <td>123 Main Street</td>\n",
       "      <td>Dallas</td>\n",
       "      <td>Texas</td>\n",
       "      <td>70571</td>\n",
       "    </tr>\n",
       "    <tr>\n",
       "      <th>70</th>\n",
       "      <td>10010</td>\n",
       "      <td>N95 Mask</td>\n",
       "      <td>2.75</td>\n",
       "      <td>1.01</td>\n",
       "      <td>Prep4Anything Prepping Store</td>\n",
       "      <td>5818</td>\n",
       "      <td>5</td>\n",
       "      <td>2022-02-24</td>\n",
       "      <td>1357</td>\n",
       "      <td>927 Apoco Street</td>\n",
       "      <td>Jefferson City</td>\n",
       "      <td>Missouri</td>\n",
       "      <td>34979</td>\n",
       "    </tr>\n",
       "    <tr>\n",
       "      <th>71</th>\n",
       "      <td>10010</td>\n",
       "      <td>N95 Mask</td>\n",
       "      <td>2.75</td>\n",
       "      <td>1.01</td>\n",
       "      <td>Uncle Joe's Prep Shop</td>\n",
       "      <td>2462</td>\n",
       "      <td>10</td>\n",
       "      <td>2022-02-25</td>\n",
       "      <td>1234</td>\n",
       "      <td>123 Main Street</td>\n",
       "      <td>Dallas</td>\n",
       "      <td>Texas</td>\n",
       "      <td>70571</td>\n",
       "    </tr>\n",
       "    <tr>\n",
       "      <th>72</th>\n",
       "      <td>10010</td>\n",
       "      <td>N95 Mask</td>\n",
       "      <td>2.75</td>\n",
       "      <td>1.01</td>\n",
       "      <td>Uncle Joe's Prep Shop</td>\n",
       "      <td>2059</td>\n",
       "      <td>54</td>\n",
       "      <td>2022-03-01</td>\n",
       "      <td>1234</td>\n",
       "      <td>123 Main Street</td>\n",
       "      <td>Dallas</td>\n",
       "      <td>Texas</td>\n",
       "      <td>70571</td>\n",
       "    </tr>\n",
       "    <tr>\n",
       "      <th>73</th>\n",
       "      <td>10010</td>\n",
       "      <td>N95 Mask</td>\n",
       "      <td>2.75</td>\n",
       "      <td>1.01</td>\n",
       "      <td>Apocolypse Preppers United</td>\n",
       "      <td>2923</td>\n",
       "      <td>23</td>\n",
       "      <td>2022-03-10</td>\n",
       "      <td>2468</td>\n",
       "      <td>444 Four Street</td>\n",
       "      <td>Benson</td>\n",
       "      <td>Minnesota</td>\n",
       "      <td>93873</td>\n",
       "    </tr>\n",
       "  </tbody>\n",
       "</table>\n",
       "<p>74 rows × 13 columns</p>\n",
       "</div>"
      ],
      "text/plain": [
       "    Product ID Product Name  Price  Production Cost  \\\n",
       "0        10001   Nylon Rope  30.99            13.67   \n",
       "1        10001   Nylon Rope  30.99            13.67   \n",
       "2        10001   Nylon Rope  30.99            13.67   \n",
       "3        10001   Nylon Rope  30.99            13.67   \n",
       "4        10001   Nylon Rope  30.99            13.67   \n",
       "..         ...          ...    ...              ...   \n",
       "69       10010     N95 Mask   2.75             1.01   \n",
       "70       10010     N95 Mask   2.75             1.01   \n",
       "71       10010     N95 Mask   2.75             1.01   \n",
       "72       10010     N95 Mask   2.75             1.01   \n",
       "73       10010     N95 Mask   2.75             1.01   \n",
       "\n",
       "                                Customer  Order ID  Units Sold Date Purchased  \\\n",
       "0                  Uncle Joe's Prep Shop      1043          67     2022-01-09   \n",
       "1             Apocolypse Preppers United      6778          23     2022-01-11   \n",
       "2             Apocolypse Preppers United      1341          66     2022-01-24   \n",
       "3                  Uncle Joe's Prep Shop      7175           5     2022-01-26   \n",
       "4   Alex The Analyst Apocolype Preppers       3587          48     2022-02-06   \n",
       "..                                   ...       ...         ...            ...   \n",
       "69                 Uncle Joe's Prep Shop      3665          76     2022-02-13   \n",
       "70          Prep4Anything Prepping Store      5818           5     2022-02-24   \n",
       "71                 Uncle Joe's Prep Shop      2462          10     2022-02-25   \n",
       "72                 Uncle Joe's Prep Shop      2059          54     2022-03-01   \n",
       "73            Apocolypse Preppers United      2923          23     2022-03-10   \n",
       "\n",
       "    Customer ID           Address            City      State  Zipcode  \n",
       "0          1234   123 Main Street          Dallas      Texas    70571  \n",
       "1          2468   444 Four Street          Benson  Minnesota    93873  \n",
       "2          2468   444 Four Street          Benson  Minnesota    93873  \n",
       "3          1234   123 Main Street          Dallas      Texas    70571  \n",
       "4          9876   369 Real Avenue        New York   New York    12546  \n",
       "..          ...               ...             ...        ...      ...  \n",
       "69         1234   123 Main Street          Dallas      Texas    70571  \n",
       "70         1357  927 Apoco Street  Jefferson City   Missouri    34979  \n",
       "71         1234   123 Main Street          Dallas      Texas    70571  \n",
       "72         1234   123 Main Street          Dallas      Texas    70571  \n",
       "73         2468   444 Four Street          Benson  Minnesota    93873  \n",
       "\n",
       "[74 rows x 13 columns]"
      ]
     },
     "execution_count": 24,
     "metadata": {},
     "output_type": "execute_result"
    }
   ],
   "source": [
    "sale_stor_data = sale_stor_data.merge(customer_data , how=\"left\")\n",
    "\n",
    "sale_stor_data"
   ]
  },
  {
   "cell_type": "code",
   "execution_count": 25,
   "id": "002a79f1",
   "metadata": {
    "execution": {
     "iopub.execute_input": "2023-09-02T11:45:49.217999Z",
     "iopub.status.busy": "2023-09-02T11:45:49.217590Z",
     "iopub.status.idle": "2023-09-02T11:45:49.225357Z",
     "shell.execute_reply": "2023-09-02T11:45:49.223813Z"
    },
    "papermill": {
     "duration": 0.023027,
     "end_time": "2023-09-02T11:45:49.227607",
     "exception": false,
     "start_time": "2023-09-02T11:45:49.204580",
     "status": "completed"
    },
    "tags": []
   },
   "outputs": [
    {
     "data": {
      "text/plain": [
       "array([\"Uncle Joe's Prep Shop\", 'Apocolypse Preppers United',\n",
       "       'Alex The Analyst Apocolype Preppers ',\n",
       "       'Prep4Anything Prepping Store'], dtype=object)"
      ]
     },
     "execution_count": 25,
     "metadata": {},
     "output_type": "execute_result"
    }
   ],
   "source": [
    "sale_stor_data['Customer'].unique()"
   ]
  },
  {
   "cell_type": "code",
   "execution_count": 26,
   "id": "84a0665d",
   "metadata": {
    "execution": {
     "iopub.execute_input": "2023-09-02T11:45:49.254408Z",
     "iopub.status.busy": "2023-09-02T11:45:49.254015Z",
     "iopub.status.idle": "2023-09-02T11:45:49.380888Z",
     "shell.execute_reply": "2023-09-02T11:45:49.379646Z"
    },
    "papermill": {
     "duration": 0.144289,
     "end_time": "2023-09-02T11:45:49.383836",
     "exception": false,
     "start_time": "2023-09-02T11:45:49.239547",
     "status": "completed"
    },
    "tags": []
   },
   "outputs": [
    {
     "data": {
      "text/html": [
       "<div>                            <div id=\"e7be32e6-2f99-491b-a756-39b4b598b349\" class=\"plotly-graph-div\" style=\"height:525px; width:100%;\"></div>            <script type=\"text/javascript\">                require([\"plotly\"], function(Plotly) {                    window.PLOTLYENV=window.PLOTLYENV || {};                                    if (document.getElementById(\"e7be32e6-2f99-491b-a756-39b4b598b349\")) {                    Plotly.newPlot(                        \"e7be32e6-2f99-491b-a756-39b4b598b349\",                        [{\"alignmentgroup\":\"True\",\"customdata\":[[\"Dallas\"],[\"Benson\"],[\"Benson\"],[\"Dallas\"],[\"New York\"],[\"New York\"],[\"Benson\"],[\"Benson\"],[\"Benson\"]],\"hovertemplate\":\"Product Name=%{y}\\u003cbr\\u003eCustomer=%{x}\\u003cbr\\u003eCity=%{customdata[0]}\\u003cextra\\u003e\\u003c\\u002fextra\\u003e\",\"legendgroup\":\"Nylon Rope\",\"marker\":{\"color\":\"#636efa\",\"pattern\":{\"shape\":\"\"}},\"name\":\"Nylon Rope\",\"offsetgroup\":\"Nylon Rope\",\"orientation\":\"v\",\"showlegend\":true,\"textposition\":\"auto\",\"x\":[\"Uncle Joe's Prep Shop\",\"Apocolypse Preppers United\",\"Apocolypse Preppers United\",\"Uncle Joe's Prep Shop\",\"Alex The Analyst Apocolype Preppers \",\"Alex The Analyst Apocolype Preppers \",\"Apocolypse Preppers United\",\"Apocolypse Preppers United\",\"Apocolypse Preppers United\"],\"xaxis\":\"x\",\"y\":[\"Nylon Rope\",\"Nylon Rope\",\"Nylon Rope\",\"Nylon Rope\",\"Nylon Rope\",\"Nylon Rope\",\"Nylon Rope\",\"Nylon Rope\",\"Nylon Rope\"],\"yaxis\":\"y\",\"type\":\"bar\"},{\"alignmentgroup\":\"True\",\"customdata\":[[\"Dallas\"],[\"Benson\"],[\"Jefferson City\"],[\"Dallas\"]],\"hovertemplate\":\"Product Name=%{y}\\u003cbr\\u003eCustomer=%{x}\\u003cbr\\u003eCity=%{customdata[0]}\\u003cextra\\u003e\\u003c\\u002fextra\\u003e\",\"legendgroup\":\"Waterproof Matches\",\"marker\":{\"color\":\"#EF553B\",\"pattern\":{\"shape\":\"\"}},\"name\":\"Waterproof Matches\",\"offsetgroup\":\"Waterproof Matches\",\"orientation\":\"v\",\"showlegend\":true,\"textposition\":\"auto\",\"x\":[\"Uncle Joe's Prep Shop\",\"Apocolypse Preppers United\",\"Prep4Anything Prepping Store\",\"Uncle Joe's Prep Shop\"],\"xaxis\":\"x\",\"y\":[\"Waterproof Matches\",\"Waterproof Matches\",\"Waterproof Matches\",\"Waterproof Matches\"],\"yaxis\":\"y\",\"type\":\"bar\"},{\"alignmentgroup\":\"True\",\"customdata\":[[\"Benson\"],[\"Jefferson City\"],[\"Dallas\"],[\"Benson\"],[\"Benson\"],[\"Benson\"],[\"Dallas\"],[\"Benson\"],[\"New York\"]],\"hovertemplate\":\"Product Name=%{y}\\u003cbr\\u003eCustomer=%{x}\\u003cbr\\u003eCity=%{customdata[0]}\\u003cextra\\u003e\\u003c\\u002fextra\\u003e\",\"legendgroup\":\"Stainless Steel Axe \",\"marker\":{\"color\":\"#00cc96\",\"pattern\":{\"shape\":\"\"}},\"name\":\"Stainless Steel Axe \",\"offsetgroup\":\"Stainless Steel Axe \",\"orientation\":\"v\",\"showlegend\":true,\"textposition\":\"auto\",\"x\":[\"Apocolypse Preppers United\",\"Prep4Anything Prepping Store\",\"Uncle Joe's Prep Shop\",\"Apocolypse Preppers United\",\"Apocolypse Preppers United\",\"Apocolypse Preppers United\",\"Uncle Joe's Prep Shop\",\"Apocolypse Preppers United\",\"Alex The Analyst Apocolype Preppers \"],\"xaxis\":\"x\",\"y\":[\"Stainless Steel Axe \",\"Stainless Steel Axe \",\"Stainless Steel Axe \",\"Stainless Steel Axe \",\"Stainless Steel Axe \",\"Stainless Steel Axe \",\"Stainless Steel Axe \",\"Stainless Steel Axe \",\"Stainless Steel Axe \"],\"yaxis\":\"y\",\"type\":\"bar\"},{\"alignmentgroup\":\"True\",\"customdata\":[[\"Benson\"],[\"Jefferson City\"],[\"Dallas\"],[\"Dallas\"],[\"New York\"]],\"hovertemplate\":\"Product Name=%{y}\\u003cbr\\u003eCustomer=%{x}\\u003cbr\\u003eCity=%{customdata[0]}\\u003cextra\\u003e\\u003c\\u002fextra\\u003e\",\"legendgroup\":\"Backpack\",\"marker\":{\"color\":\"#ab63fa\",\"pattern\":{\"shape\":\"\"}},\"name\":\"Backpack\",\"offsetgroup\":\"Backpack\",\"orientation\":\"v\",\"showlegend\":true,\"textposition\":\"auto\",\"x\":[\"Apocolypse Preppers United\",\"Prep4Anything Prepping Store\",\"Uncle Joe's Prep Shop\",\"Uncle Joe's Prep Shop\",\"Alex The Analyst Apocolype Preppers \"],\"xaxis\":\"x\",\"y\":[\"Backpack\",\"Backpack\",\"Backpack\",\"Backpack\",\"Backpack\"],\"yaxis\":\"y\",\"type\":\"bar\"},{\"alignmentgroup\":\"True\",\"customdata\":[[\"New York\"],[\"Jefferson City\"],[\"New York\"],[\"Jefferson City\"],[\"Dallas\"],[\"Benson\"],[\"Dallas\"],[\"Jefferson City\"],[\"Jefferson City\"],[\"Dallas\"],[\"Benson\"],[\"Benson\"],[\"Benson\"]],\"hovertemplate\":\"Product Name=%{y}\\u003cbr\\u003eCustomer=%{x}\\u003cbr\\u003eCity=%{customdata[0]}\\u003cextra\\u003e\\u003c\\u002fextra\\u003e\",\"legendgroup\":\"Multitool Survivial Knife\",\"marker\":{\"color\":\"#FFA15A\",\"pattern\":{\"shape\":\"\"}},\"name\":\"Multitool Survivial Knife\",\"offsetgroup\":\"Multitool Survivial Knife\",\"orientation\":\"v\",\"showlegend\":true,\"textposition\":\"auto\",\"x\":[\"Alex The Analyst Apocolype Preppers \",\"Prep4Anything Prepping Store\",\"Alex The Analyst Apocolype Preppers \",\"Prep4Anything Prepping Store\",\"Uncle Joe's Prep Shop\",\"Apocolypse Preppers United\",\"Uncle Joe's Prep Shop\",\"Prep4Anything Prepping Store\",\"Prep4Anything Prepping Store\",\"Uncle Joe's Prep Shop\",\"Apocolypse Preppers United\",\"Apocolypse Preppers United\",\"Apocolypse Preppers United\"],\"xaxis\":\"x\",\"y\":[\"Multitool Survivial Knife\",\"Multitool Survivial Knife\",\"Multitool Survivial Knife\",\"Multitool Survivial Knife\",\"Multitool Survivial Knife\",\"Multitool Survivial Knife\",\"Multitool Survivial Knife\",\"Multitool Survivial Knife\",\"Multitool Survivial Knife\",\"Multitool Survivial Knife\",\"Multitool Survivial Knife\",\"Multitool Survivial Knife\",\"Multitool Survivial Knife\"],\"yaxis\":\"y\",\"type\":\"bar\"},{\"alignmentgroup\":\"True\",\"customdata\":[[\"Dallas\"],[\"Dallas\"],[\"Jefferson City\"],[\"Dallas\"],[\"New York\"],[\"Jefferson City\"]],\"hovertemplate\":\"Product Name=%{y}\\u003cbr\\u003eCustomer=%{x}\\u003cbr\\u003eCity=%{customdata[0]}\\u003cextra\\u003e\\u003c\\u002fextra\\u003e\",\"legendgroup\":\"Solar Battery Flashlight\",\"marker\":{\"color\":\"#19d3f3\",\"pattern\":{\"shape\":\"\"}},\"name\":\"Solar Battery Flashlight\",\"offsetgroup\":\"Solar Battery Flashlight\",\"orientation\":\"v\",\"showlegend\":true,\"textposition\":\"auto\",\"x\":[\"Uncle Joe's Prep Shop\",\"Uncle Joe's Prep Shop\",\"Prep4Anything Prepping Store\",\"Uncle Joe's Prep Shop\",\"Alex The Analyst Apocolype Preppers \",\"Prep4Anything Prepping Store\"],\"xaxis\":\"x\",\"y\":[\"Solar Battery Flashlight\",\"Solar Battery Flashlight\",\"Solar Battery Flashlight\",\"Solar Battery Flashlight\",\"Solar Battery Flashlight\",\"Solar Battery Flashlight\"],\"yaxis\":\"y\",\"type\":\"bar\"},{\"alignmentgroup\":\"True\",\"customdata\":[[\"New York\"],[\"Benson\"],[\"Dallas\"],[\"Dallas\"],[\"Benson\"],[\"New York\"],[\"Jefferson City\"]],\"hovertemplate\":\"Product Name=%{y}\\u003cbr\\u003eCustomer=%{x}\\u003cbr\\u003eCity=%{customdata[0]}\\u003cextra\\u003e\\u003c\\u002fextra\\u003e\",\"legendgroup\":\"Weatherproof Jacket\",\"marker\":{\"color\":\"#FF6692\",\"pattern\":{\"shape\":\"\"}},\"name\":\"Weatherproof Jacket\",\"offsetgroup\":\"Weatherproof Jacket\",\"orientation\":\"v\",\"showlegend\":true,\"textposition\":\"auto\",\"x\":[\"Alex The Analyst Apocolype Preppers \",\"Apocolypse Preppers United\",\"Uncle Joe's Prep Shop\",\"Uncle Joe's Prep Shop\",\"Apocolypse Preppers United\",\"Alex The Analyst Apocolype Preppers \",\"Prep4Anything Prepping Store\"],\"xaxis\":\"x\",\"y\":[\"Weatherproof Jacket\",\"Weatherproof Jacket\",\"Weatherproof Jacket\",\"Weatherproof Jacket\",\"Weatherproof Jacket\",\"Weatherproof Jacket\",\"Weatherproof Jacket\"],\"yaxis\":\"y\",\"type\":\"bar\"},{\"alignmentgroup\":\"True\",\"customdata\":[[\"New York\"],[\"Jefferson City\"],[\"Jefferson City\"],[\"Jefferson City\"],[\"New York\"],[\"Jefferson City\"],[\"Jefferson City\"],[\"Dallas\"],[\"New York\"]],\"hovertemplate\":\"Product Name=%{y}\\u003cbr\\u003eCustomer=%{x}\\u003cbr\\u003eCity=%{customdata[0]}\\u003cextra\\u003e\\u003c\\u002fextra\\u003e\",\"legendgroup\":\"Duct Tape\",\"marker\":{\"color\":\"#B6E880\",\"pattern\":{\"shape\":\"\"}},\"name\":\"Duct Tape\",\"offsetgroup\":\"Duct Tape\",\"orientation\":\"v\",\"showlegend\":true,\"textposition\":\"auto\",\"x\":[\"Alex The Analyst Apocolype Preppers \",\"Prep4Anything Prepping Store\",\"Prep4Anything Prepping Store\",\"Prep4Anything Prepping Store\",\"Alex The Analyst Apocolype Preppers \",\"Prep4Anything Prepping Store\",\"Prep4Anything Prepping Store\",\"Uncle Joe's Prep Shop\",\"Alex The Analyst Apocolype Preppers \"],\"xaxis\":\"x\",\"y\":[\"Duct Tape\",\"Duct Tape\",\"Duct Tape\",\"Duct Tape\",\"Duct Tape\",\"Duct Tape\",\"Duct Tape\",\"Duct Tape\",\"Duct Tape\"],\"yaxis\":\"y\",\"type\":\"bar\"},{\"alignmentgroup\":\"True\",\"customdata\":[[\"New York\"],[\"New York\"],[\"New York\"],[\"Dallas\"]],\"hovertemplate\":\"Product Name=%{y}\\u003cbr\\u003eCustomer=%{x}\\u003cbr\\u003eCity=%{customdata[0]}\\u003cextra\\u003e\\u003c\\u002fextra\\u003e\",\"legendgroup\":\"Water Purifier\",\"marker\":{\"color\":\"#FF97FF\",\"pattern\":{\"shape\":\"\"}},\"name\":\"Water Purifier\",\"offsetgroup\":\"Water Purifier\",\"orientation\":\"v\",\"showlegend\":true,\"textposition\":\"auto\",\"x\":[\"Alex The Analyst Apocolype Preppers \",\"Alex The Analyst Apocolype Preppers \",\"Alex The Analyst Apocolype Preppers \",\"Uncle Joe's Prep Shop\"],\"xaxis\":\"x\",\"y\":[\"Water Purifier\",\"Water Purifier\",\"Water Purifier\",\"Water Purifier\"],\"yaxis\":\"y\",\"type\":\"bar\"},{\"alignmentgroup\":\"True\",\"customdata\":[[\"Dallas\"],[\"Benson\"],[\"New York\"],[\"Dallas\"],[\"Jefferson City\"],[\"Dallas\"],[\"Dallas\"],[\"Benson\"]],\"hovertemplate\":\"Product Name=%{y}\\u003cbr\\u003eCustomer=%{x}\\u003cbr\\u003eCity=%{customdata[0]}\\u003cextra\\u003e\\u003c\\u002fextra\\u003e\",\"legendgroup\":\"N95 Mask\",\"marker\":{\"color\":\"#FECB52\",\"pattern\":{\"shape\":\"\"}},\"name\":\"N95 Mask\",\"offsetgroup\":\"N95 Mask\",\"orientation\":\"v\",\"showlegend\":true,\"textposition\":\"auto\",\"x\":[\"Uncle Joe's Prep Shop\",\"Apocolypse Preppers United\",\"Alex The Analyst Apocolype Preppers \",\"Uncle Joe's Prep Shop\",\"Prep4Anything Prepping Store\",\"Uncle Joe's Prep Shop\",\"Uncle Joe's Prep Shop\",\"Apocolypse Preppers United\"],\"xaxis\":\"x\",\"y\":[\"N95 Mask\",\"N95 Mask\",\"N95 Mask\",\"N95 Mask\",\"N95 Mask\",\"N95 Mask\",\"N95 Mask\",\"N95 Mask\"],\"yaxis\":\"y\",\"type\":\"bar\"}],                        {\"template\":{\"data\":{\"histogram2dcontour\":[{\"type\":\"histogram2dcontour\",\"colorbar\":{\"outlinewidth\":0,\"ticks\":\"\"},\"colorscale\":[[0.0,\"#0d0887\"],[0.1111111111111111,\"#46039f\"],[0.2222222222222222,\"#7201a8\"],[0.3333333333333333,\"#9c179e\"],[0.4444444444444444,\"#bd3786\"],[0.5555555555555556,\"#d8576b\"],[0.6666666666666666,\"#ed7953\"],[0.7777777777777778,\"#fb9f3a\"],[0.8888888888888888,\"#fdca26\"],[1.0,\"#f0f921\"]]}],\"choropleth\":[{\"type\":\"choropleth\",\"colorbar\":{\"outlinewidth\":0,\"ticks\":\"\"}}],\"histogram2d\":[{\"type\":\"histogram2d\",\"colorbar\":{\"outlinewidth\":0,\"ticks\":\"\"},\"colorscale\":[[0.0,\"#0d0887\"],[0.1111111111111111,\"#46039f\"],[0.2222222222222222,\"#7201a8\"],[0.3333333333333333,\"#9c179e\"],[0.4444444444444444,\"#bd3786\"],[0.5555555555555556,\"#d8576b\"],[0.6666666666666666,\"#ed7953\"],[0.7777777777777778,\"#fb9f3a\"],[0.8888888888888888,\"#fdca26\"],[1.0,\"#f0f921\"]]}],\"heatmap\":[{\"type\":\"heatmap\",\"colorbar\":{\"outlinewidth\":0,\"ticks\":\"\"},\"colorscale\":[[0.0,\"#0d0887\"],[0.1111111111111111,\"#46039f\"],[0.2222222222222222,\"#7201a8\"],[0.3333333333333333,\"#9c179e\"],[0.4444444444444444,\"#bd3786\"],[0.5555555555555556,\"#d8576b\"],[0.6666666666666666,\"#ed7953\"],[0.7777777777777778,\"#fb9f3a\"],[0.8888888888888888,\"#fdca26\"],[1.0,\"#f0f921\"]]}],\"heatmapgl\":[{\"type\":\"heatmapgl\",\"colorbar\":{\"outlinewidth\":0,\"ticks\":\"\"},\"colorscale\":[[0.0,\"#0d0887\"],[0.1111111111111111,\"#46039f\"],[0.2222222222222222,\"#7201a8\"],[0.3333333333333333,\"#9c179e\"],[0.4444444444444444,\"#bd3786\"],[0.5555555555555556,\"#d8576b\"],[0.6666666666666666,\"#ed7953\"],[0.7777777777777778,\"#fb9f3a\"],[0.8888888888888888,\"#fdca26\"],[1.0,\"#f0f921\"]]}],\"contourcarpet\":[{\"type\":\"contourcarpet\",\"colorbar\":{\"outlinewidth\":0,\"ticks\":\"\"}}],\"contour\":[{\"type\":\"contour\",\"colorbar\":{\"outlinewidth\":0,\"ticks\":\"\"},\"colorscale\":[[0.0,\"#0d0887\"],[0.1111111111111111,\"#46039f\"],[0.2222222222222222,\"#7201a8\"],[0.3333333333333333,\"#9c179e\"],[0.4444444444444444,\"#bd3786\"],[0.5555555555555556,\"#d8576b\"],[0.6666666666666666,\"#ed7953\"],[0.7777777777777778,\"#fb9f3a\"],[0.8888888888888888,\"#fdca26\"],[1.0,\"#f0f921\"]]}],\"surface\":[{\"type\":\"surface\",\"colorbar\":{\"outlinewidth\":0,\"ticks\":\"\"},\"colorscale\":[[0.0,\"#0d0887\"],[0.1111111111111111,\"#46039f\"],[0.2222222222222222,\"#7201a8\"],[0.3333333333333333,\"#9c179e\"],[0.4444444444444444,\"#bd3786\"],[0.5555555555555556,\"#d8576b\"],[0.6666666666666666,\"#ed7953\"],[0.7777777777777778,\"#fb9f3a\"],[0.8888888888888888,\"#fdca26\"],[1.0,\"#f0f921\"]]}],\"mesh3d\":[{\"type\":\"mesh3d\",\"colorbar\":{\"outlinewidth\":0,\"ticks\":\"\"}}],\"scatter\":[{\"fillpattern\":{\"fillmode\":\"overlay\",\"size\":10,\"solidity\":0.2},\"type\":\"scatter\"}],\"parcoords\":[{\"type\":\"parcoords\",\"line\":{\"colorbar\":{\"outlinewidth\":0,\"ticks\":\"\"}}}],\"scatterpolargl\":[{\"type\":\"scatterpolargl\",\"marker\":{\"colorbar\":{\"outlinewidth\":0,\"ticks\":\"\"}}}],\"bar\":[{\"error_x\":{\"color\":\"#2a3f5f\"},\"error_y\":{\"color\":\"#2a3f5f\"},\"marker\":{\"line\":{\"color\":\"#E5ECF6\",\"width\":0.5},\"pattern\":{\"fillmode\":\"overlay\",\"size\":10,\"solidity\":0.2}},\"type\":\"bar\"}],\"scattergeo\":[{\"type\":\"scattergeo\",\"marker\":{\"colorbar\":{\"outlinewidth\":0,\"ticks\":\"\"}}}],\"scatterpolar\":[{\"type\":\"scatterpolar\",\"marker\":{\"colorbar\":{\"outlinewidth\":0,\"ticks\":\"\"}}}],\"histogram\":[{\"marker\":{\"pattern\":{\"fillmode\":\"overlay\",\"size\":10,\"solidity\":0.2}},\"type\":\"histogram\"}],\"scattergl\":[{\"type\":\"scattergl\",\"marker\":{\"colorbar\":{\"outlinewidth\":0,\"ticks\":\"\"}}}],\"scatter3d\":[{\"type\":\"scatter3d\",\"line\":{\"colorbar\":{\"outlinewidth\":0,\"ticks\":\"\"}},\"marker\":{\"colorbar\":{\"outlinewidth\":0,\"ticks\":\"\"}}}],\"scattermapbox\":[{\"type\":\"scattermapbox\",\"marker\":{\"colorbar\":{\"outlinewidth\":0,\"ticks\":\"\"}}}],\"scatterternary\":[{\"type\":\"scatterternary\",\"marker\":{\"colorbar\":{\"outlinewidth\":0,\"ticks\":\"\"}}}],\"scattercarpet\":[{\"type\":\"scattercarpet\",\"marker\":{\"colorbar\":{\"outlinewidth\":0,\"ticks\":\"\"}}}],\"carpet\":[{\"aaxis\":{\"endlinecolor\":\"#2a3f5f\",\"gridcolor\":\"white\",\"linecolor\":\"white\",\"minorgridcolor\":\"white\",\"startlinecolor\":\"#2a3f5f\"},\"baxis\":{\"endlinecolor\":\"#2a3f5f\",\"gridcolor\":\"white\",\"linecolor\":\"white\",\"minorgridcolor\":\"white\",\"startlinecolor\":\"#2a3f5f\"},\"type\":\"carpet\"}],\"table\":[{\"cells\":{\"fill\":{\"color\":\"#EBF0F8\"},\"line\":{\"color\":\"white\"}},\"header\":{\"fill\":{\"color\":\"#C8D4E3\"},\"line\":{\"color\":\"white\"}},\"type\":\"table\"}],\"barpolar\":[{\"marker\":{\"line\":{\"color\":\"#E5ECF6\",\"width\":0.5},\"pattern\":{\"fillmode\":\"overlay\",\"size\":10,\"solidity\":0.2}},\"type\":\"barpolar\"}],\"pie\":[{\"automargin\":true,\"type\":\"pie\"}]},\"layout\":{\"autotypenumbers\":\"strict\",\"colorway\":[\"#636efa\",\"#EF553B\",\"#00cc96\",\"#ab63fa\",\"#FFA15A\",\"#19d3f3\",\"#FF6692\",\"#B6E880\",\"#FF97FF\",\"#FECB52\"],\"font\":{\"color\":\"#2a3f5f\"},\"hovermode\":\"closest\",\"hoverlabel\":{\"align\":\"left\"},\"paper_bgcolor\":\"white\",\"plot_bgcolor\":\"#E5ECF6\",\"polar\":{\"bgcolor\":\"#E5ECF6\",\"angularaxis\":{\"gridcolor\":\"white\",\"linecolor\":\"white\",\"ticks\":\"\"},\"radialaxis\":{\"gridcolor\":\"white\",\"linecolor\":\"white\",\"ticks\":\"\"}},\"ternary\":{\"bgcolor\":\"#E5ECF6\",\"aaxis\":{\"gridcolor\":\"white\",\"linecolor\":\"white\",\"ticks\":\"\"},\"baxis\":{\"gridcolor\":\"white\",\"linecolor\":\"white\",\"ticks\":\"\"},\"caxis\":{\"gridcolor\":\"white\",\"linecolor\":\"white\",\"ticks\":\"\"}},\"coloraxis\":{\"colorbar\":{\"outlinewidth\":0,\"ticks\":\"\"}},\"colorscale\":{\"sequential\":[[0.0,\"#0d0887\"],[0.1111111111111111,\"#46039f\"],[0.2222222222222222,\"#7201a8\"],[0.3333333333333333,\"#9c179e\"],[0.4444444444444444,\"#bd3786\"],[0.5555555555555556,\"#d8576b\"],[0.6666666666666666,\"#ed7953\"],[0.7777777777777778,\"#fb9f3a\"],[0.8888888888888888,\"#fdca26\"],[1.0,\"#f0f921\"]],\"sequentialminus\":[[0.0,\"#0d0887\"],[0.1111111111111111,\"#46039f\"],[0.2222222222222222,\"#7201a8\"],[0.3333333333333333,\"#9c179e\"],[0.4444444444444444,\"#bd3786\"],[0.5555555555555556,\"#d8576b\"],[0.6666666666666666,\"#ed7953\"],[0.7777777777777778,\"#fb9f3a\"],[0.8888888888888888,\"#fdca26\"],[1.0,\"#f0f921\"]],\"diverging\":[[0,\"#8e0152\"],[0.1,\"#c51b7d\"],[0.2,\"#de77ae\"],[0.3,\"#f1b6da\"],[0.4,\"#fde0ef\"],[0.5,\"#f7f7f7\"],[0.6,\"#e6f5d0\"],[0.7,\"#b8e186\"],[0.8,\"#7fbc41\"],[0.9,\"#4d9221\"],[1,\"#276419\"]]},\"xaxis\":{\"gridcolor\":\"white\",\"linecolor\":\"white\",\"ticks\":\"\",\"title\":{\"standoff\":15},\"zerolinecolor\":\"white\",\"automargin\":true,\"zerolinewidth\":2},\"yaxis\":{\"gridcolor\":\"white\",\"linecolor\":\"white\",\"ticks\":\"\",\"title\":{\"standoff\":15},\"zerolinecolor\":\"white\",\"automargin\":true,\"zerolinewidth\":2},\"scene\":{\"xaxis\":{\"backgroundcolor\":\"#E5ECF6\",\"gridcolor\":\"white\",\"linecolor\":\"white\",\"showbackground\":true,\"ticks\":\"\",\"zerolinecolor\":\"white\",\"gridwidth\":2},\"yaxis\":{\"backgroundcolor\":\"#E5ECF6\",\"gridcolor\":\"white\",\"linecolor\":\"white\",\"showbackground\":true,\"ticks\":\"\",\"zerolinecolor\":\"white\",\"gridwidth\":2},\"zaxis\":{\"backgroundcolor\":\"#E5ECF6\",\"gridcolor\":\"white\",\"linecolor\":\"white\",\"showbackground\":true,\"ticks\":\"\",\"zerolinecolor\":\"white\",\"gridwidth\":2}},\"shapedefaults\":{\"line\":{\"color\":\"#2a3f5f\"}},\"annotationdefaults\":{\"arrowcolor\":\"#2a3f5f\",\"arrowhead\":0,\"arrowwidth\":1},\"geo\":{\"bgcolor\":\"white\",\"landcolor\":\"#E5ECF6\",\"subunitcolor\":\"white\",\"showland\":true,\"showlakes\":true,\"lakecolor\":\"white\"},\"title\":{\"x\":0.05},\"mapbox\":{\"style\":\"light\"}}},\"xaxis\":{\"anchor\":\"y\",\"domain\":[0.0,1.0],\"title\":{\"text\":\"Customer\"}},\"yaxis\":{\"anchor\":\"x\",\"domain\":[0.0,1.0],\"title\":{\"text\":\"Product Name\"},\"categoryorder\":\"array\",\"categoryarray\":[\"N95 Mask\",\"Water Purifier\",\"Duct Tape\",\"Weatherproof Jacket\",\"Solar Battery Flashlight\",\"Multitool Survivial Knife\",\"Backpack\",\"Stainless Steel Axe \",\"Waterproof Matches\",\"Nylon Rope\"]},\"legend\":{\"title\":{\"text\":\"Product Name\"},\"tracegroupgap\":0},\"margin\":{\"t\":60},\"barmode\":\"relative\"},                        {\"responsive\": true}                    ).then(function(){\n",
       "                            \n",
       "var gd = document.getElementById('e7be32e6-2f99-491b-a756-39b4b598b349');\n",
       "var x = new MutationObserver(function (mutations, observer) {{\n",
       "        var display = window.getComputedStyle(gd).display;\n",
       "        if (!display || display === 'none') {{\n",
       "            console.log([gd, 'removed!']);\n",
       "            Plotly.purge(gd);\n",
       "            observer.disconnect();\n",
       "        }}\n",
       "}});\n",
       "\n",
       "// Listen for the removal of the full notebook cells\n",
       "var notebookContainer = gd.closest('#notebook-container');\n",
       "if (notebookContainer) {{\n",
       "    x.observe(notebookContainer, {childList: true});\n",
       "}}\n",
       "\n",
       "// Listen for the clearing of the current output cell\n",
       "var outputEl = gd.closest('.output');\n",
       "if (outputEl) {{\n",
       "    x.observe(outputEl, {childList: true});\n",
       "}}\n",
       "\n",
       "                        })                };                });            </script>        </div>"
      ]
     },
     "metadata": {},
     "output_type": "display_data"
    }
   ],
   "source": [
    "px.bar(sale_stor_data, x=\"Customer\" , y=\"Product Name\" , color=\"Product Name\"\\\n",
    "       , hover_data=\"City\")"
   ]
  },
  {
   "cell_type": "code",
   "execution_count": null,
   "id": "41393c71",
   "metadata": {
    "papermill": {
     "duration": 0.015926,
     "end_time": "2023-09-02T11:45:49.412236",
     "exception": false,
     "start_time": "2023-09-02T11:45:49.396310",
     "status": "completed"
    },
    "tags": []
   },
   "outputs": [],
   "source": []
  }
 ],
 "kernelspec": {
  "display_name": "Python 3",
  "language": "python",
  "name": "python3"
 },
 "language_info": {
  "codemirror_mode": {
   "name": "ipython",
   "version": 3
  },
  "file_extension": ".py",
  "mimetype": "text/x-python",
  "name": "python",
  "nbconvert_exporter": "python",
  "pygments_lexer": "ipython3",
  "version": "3.6.4"
 },
 "metadata": {
  "kernelspec": {
   "display_name": "Python 3",
   "language": "python",
   "name": "python3"
  },
  "language_info": {
   "codemirror_mode": {
    "name": "ipython",
    "version": 3
   },
   "file_extension": ".py",
   "mimetype": "text/x-python",
   "name": "python",
   "nbconvert_exporter": "python",
   "pygments_lexer": "ipython3",
   "version": "3.10.12"
  },
  "papermill": {
   "default_parameters": {},
   "duration": 11.114563,
   "end_time": "2023-09-02T11:45:50.247052",
   "environment_variables": {},
   "exception": null,
   "input_path": "__notebook__.ipynb",
   "output_path": "__notebook__.ipynb",
   "parameters": {},
   "start_time": "2023-09-02T11:45:39.132489",
   "version": "2.4.0"
  }
 },
 "nbformat": 4,
 "nbformat_minor": 5
}
